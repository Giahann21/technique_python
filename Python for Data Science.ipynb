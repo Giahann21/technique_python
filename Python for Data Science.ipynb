{
 "cells": [
  {
   "cell_type": "code",
   "execution_count": 1,
   "id": "55da5230-3bed-49e1-bf03-f06a8881e466",
   "metadata": {},
   "outputs": [],
   "source": [
    "# Créer une liste\n",
    "maListe = ['a', 'b', 'c', 'd'] # séparer par des virgules"
   ]
  },
  {
   "cell_type": "code",
   "execution_count": 3,
   "id": "64f40c12-0219-4fd0-a2c8-851f814563b1",
   "metadata": {},
   "outputs": [
    {
     "data": {
      "text/plain": [
       "['a', 'b', 'c', 'd']"
      ]
     },
     "execution_count": 3,
     "metadata": {},
     "output_type": "execute_result"
    }
   ],
   "source": [
    "maListe"
   ]
  },
  {
   "cell_type": "code",
   "execution_count": 5,
   "id": "49267c87-8d8f-463d-b18d-808502a660c5",
   "metadata": {},
   "outputs": [
    {
     "data": {
      "text/plain": [
       "str"
      ]
     },
     "execution_count": 5,
     "metadata": {},
     "output_type": "execute_result"
    }
   ],
   "source": [
    "#pour savoir quelle type d'une indice dans la liste\n",
    "type(maListe[0])"
   ]
  },
  {
   "cell_type": "code",
   "execution_count": 7,
   "id": "1c077056-bb7a-4ea8-a4a0-2b017179d843",
   "metadata": {},
   "outputs": [
    {
     "data": {
      "text/plain": [
       "4"
      ]
     },
     "execution_count": 7,
     "metadata": {},
     "output_type": "execute_result"
    }
   ],
   "source": [
    "#Longueur de la liste\n",
    "len(maListe)"
   ]
  },
  {
   "cell_type": "code",
   "execution_count": 9,
   "id": "8fd5ee2e-f075-4860-b4b7-691fc3aed681",
   "metadata": {},
   "outputs": [],
   "source": [
    "#Supprimer un indice \n",
    "del maListe [2]\n",
    "maListe\n",
    "#On peut utiliser également\n",
    "maListe.remove(\"d\")"
   ]
  },
  {
   "cell_type": "code",
   "execution_count": 11,
   "id": "77962431-23b4-476b-9514-4826d217e4c6",
   "metadata": {},
   "outputs": [
    {
     "data": {
      "text/plain": [
       "['a', 'b']"
      ]
     },
     "execution_count": 11,
     "metadata": {},
     "output_type": "execute_result"
    }
   ],
   "source": [
    "maListe"
   ]
  },
  {
   "cell_type": "code",
   "execution_count": 13,
   "id": "b9c63c69-b6f7-405f-885f-4ab803fa4322",
   "metadata": {},
   "outputs": [
    {
     "data": {
      "text/plain": [
       "['a', 'b', 'b', 'c', 'd']"
      ]
     },
     "execution_count": 13,
     "metadata": {},
     "output_type": "execute_result"
    }
   ],
   "source": [
    "#Pour ajouter des éléments dans la liste\n",
    "maListe.extend(['c','d'])\n",
    "#OU on peut utiliser\n",
    "maListe.insert(2,'b') #2 est la placement pour insérer\n",
    "maListe"
   ]
  },
  {
   "cell_type": "code",
   "execution_count": 15,
   "id": "87fb43c6-fda2-49d6-b48d-1fd89a41dbd3",
   "metadata": {},
   "outputs": [
    {
     "data": {
      "text/plain": [
       "['a', 'b', 'b', 'c', 'd', 'alice']"
      ]
     },
     "execution_count": 15,
     "metadata": {},
     "output_type": "execute_result"
    }
   ],
   "source": [
    "#Pour ajouter une chaîne de caractère dans la liste\n",
    "maListe.append('alice')\n",
    "maListe"
   ]
  },
  {
   "cell_type": "code",
   "execution_count": 17,
   "id": "218478c4-181e-42f9-8613-9bf90695e717",
   "metadata": {},
   "outputs": [
    {
     "data": {
      "text/plain": [
       "1"
      ]
     },
     "execution_count": 17,
     "metadata": {},
     "output_type": "execute_result"
    }
   ],
   "source": [
    "# Pour compter le nombre d'occurrences d'un élément données\n",
    "maListe.count(\"a\")"
   ]
  },
  {
   "cell_type": "code",
   "execution_count": 19,
   "id": "5ec4b6fb-9e04-449b-b99f-5d923c4ece46",
   "metadata": {},
   "outputs": [
    {
     "data": {
      "text/plain": [
       "['alice', 'd', 'c', 'b', 'b', 'a']"
      ]
     },
     "execution_count": 19,
     "metadata": {},
     "output_type": "execute_result"
    }
   ],
   "source": [
    "#Inverser des items de liste\n",
    "maListe.reverse()\n",
    "maListe"
   ]
  },
  {
   "cell_type": "code",
   "execution_count": 21,
   "id": "f33d48c7-01d3-46d6-8ba7-0755532a39f8",
   "metadata": {},
   "outputs": [
    {
     "data": {
      "text/plain": [
       "[4, 2]"
      ]
     },
     "execution_count": 21,
     "metadata": {},
     "output_type": "execute_result"
    }
   ],
   "source": [
    "maListe2 = [4, 2]\n",
    "maListe2"
   ]
  },
  {
   "cell_type": "code",
   "execution_count": 23,
   "id": "db672b99-b637-4091-8ec3-9ba5d8481639",
   "metadata": {},
   "outputs": [
    {
     "data": {
      "text/plain": [
       "['alice', 'd', 'c', 'b', 'b', 'a', 4, 2]"
      ]
     },
     "execution_count": 23,
     "metadata": {},
     "output_type": "execute_result"
    }
   ],
   "source": [
    "#Pour concaténer 2 listes\n",
    "maListe = maListe + maListe2\n",
    "maListe"
   ]
  },
  {
   "cell_type": "code",
   "execution_count": 25,
   "id": "b53aeb13-1c08-453c-8dd7-ee062f0c9866",
   "metadata": {},
   "outputs": [
    {
     "data": {
      "text/plain": [
       "[1, 3, 5, 6, 10]"
      ]
     },
     "execution_count": 25,
     "metadata": {},
     "output_type": "execute_result"
    }
   ],
   "source": [
    "nouvListe = [1, 6, 5, 3, 10]\n",
    "#Pour trier une liste de l'ordre croissant\n",
    "nouvListe.sort()\n",
    "nouvListe"
   ]
  },
  {
   "cell_type": "code",
   "execution_count": 27,
   "id": "4252eb40-52b4-4840-8a51-4962697c42af",
   "metadata": {},
   "outputs": [
    {
     "data": {
      "text/plain": [
       "[10, 6, 5, 3, 1]"
      ]
     },
     "execution_count": 27,
     "metadata": {},
     "output_type": "execute_result"
    }
   ],
   "source": [
    "#Trier une liste de l'ordre décroissante\n",
    "sorted(nouvListe,reverse = True)"
   ]
  },
  {
   "cell_type": "code",
   "execution_count": 29,
   "id": "800d3aa3-c62e-4fd8-bb14-a9eeed88e558",
   "metadata": {},
   "outputs": [],
   "source": [
    "#Pour obtenir une sous-liste de 2 premières éléments\n",
    "nouvListe1 = nouvListe[:2]"
   ]
  },
  {
   "cell_type": "code",
   "execution_count": 31,
   "id": "da627daa-17fd-4755-89d3-fab116d47eeb",
   "metadata": {},
   "outputs": [
    {
     "data": {
      "text/plain": [
       "[1, 3]"
      ]
     },
     "execution_count": 31,
     "metadata": {},
     "output_type": "execute_result"
    }
   ],
   "source": [
    "nouvListe1"
   ]
  },
  {
   "cell_type": "code",
   "execution_count": 33,
   "id": "b3afdd04-399b-42b3-9274-7f43e6ab3548",
   "metadata": {},
   "outputs": [
    {
     "data": {
      "text/plain": [
       "[5, 6, 10]"
      ]
     },
     "execution_count": 33,
     "metadata": {},
     "output_type": "execute_result"
    }
   ],
   "source": [
    "#Pour obtenir une sous-liste de 3 dernières éléments\n",
    "nouvListe2 = nouvListe[2:]\n",
    "nouvListe2"
   ]
  },
  {
   "cell_type": "code",
   "execution_count": 35,
   "id": "a8d38e3e-f082-4fae-acf6-9d77678431d6",
   "metadata": {},
   "outputs": [],
   "source": [
    "#Pour obtenir une sous-liste contenant des éléments entre deux indices donnés\n",
    "nouvListe3 = nouvListe[2:4]"
   ]
  },
  {
   "cell_type": "code",
   "execution_count": 37,
   "id": "7b828ff8-4d00-4577-be19-edc83a851f40",
   "metadata": {},
   "outputs": [
    {
     "data": {
      "text/plain": [
       "[5, 6]"
      ]
     },
     "execution_count": 37,
     "metadata": {},
     "output_type": "execute_result"
    }
   ],
   "source": [
    "nouvListe3"
   ]
  },
  {
   "cell_type": "code",
   "execution_count": 41,
   "id": "5ab7c7b1-f8c9-4974-be9d-5954c697e382",
   "metadata": {},
   "outputs": [
    {
     "name": "stdout",
     "output_type": "stream",
     "text": [
      "1\n",
      "3\n",
      "5\n",
      "6\n",
      "10\n"
     ]
    }
   ],
   "source": [
    "#Boucler sur une liste\n",
    "for i in nouvListe:\n",
    "    print(i)\n",
    "    "
   ]
  },
  {
   "cell_type": "code",
   "execution_count": 45,
   "id": "9451fa60-2c64-4d8e-8f13-ed518a2cc4d9",
   "metadata": {},
   "outputs": [
    {
     "data": {
      "text/plain": [
       "['Rabat', 'Casblanca', '86.9']"
      ]
     },
     "execution_count": 45,
     "metadata": {},
     "output_type": "execute_result"
    }
   ],
   "source": [
    "#Pour créer une liste à partir d'une chaîne de caractère\n",
    "maChaine = \"Rabat:Casblanca:86.9\"\n",
    "maListe3 = maChaine.split(\":\")\n",
    "maListe3"
   ]
  },
  {
   "cell_type": "code",
   "execution_count": 47,
   "id": "2e0124ef-aa3b-4703-b9ec-bc3e51b7b22d",
   "metadata": {},
   "outputs": [],
   "source": [
    "#Changer type d'un élement dans liste\n",
    "maListe3[2] = float(maListe3[2])"
   ]
  },
  {
   "cell_type": "code",
   "execution_count": 57,
   "id": "c50efb62-01a4-4ab0-b88b-33b7b140b5ea",
   "metadata": {},
   "outputs": [],
   "source": [
    "#### LES DICTIONNAIRE"
   ]
  },
  {
   "cell_type": "code",
   "execution_count": 59,
   "id": "9652c192-906f-4a2e-8cdf-5a6a58c2a148",
   "metadata": {},
   "outputs": [],
   "source": [
    "#Créer une dictionnaire\n",
    "équipe = {'Benatia':'Juventus', 'Messi':'Barcelone', 'Pogba':'ManU'}"
   ]
  },
  {
   "cell_type": "code",
   "execution_count": 61,
   "id": "302b1731-4611-4764-8026-1955f9c582a5",
   "metadata": {},
   "outputs": [
    {
     "data": {
      "text/plain": [
       "{'Benatia': 'Juventus', 'Messi': 'Barcelone', 'Pogba': 'ManU'}"
      ]
     },
     "execution_count": 61,
     "metadata": {},
     "output_type": "execute_result"
    }
   ],
   "source": [
    "équipe"
   ]
  },
  {
   "cell_type": "code",
   "execution_count": 63,
   "id": "3447136a-549c-467f-86cd-a52684e3eb51",
   "metadata": {},
   "outputs": [
    {
     "data": {
      "text/plain": [
       "'Juventus'"
      ]
     },
     "execution_count": 63,
     "metadata": {},
     "output_type": "execute_result"
    }
   ],
   "source": [
    "équipe['Benatia']"
   ]
  },
  {
   "cell_type": "code",
   "execution_count": 65,
   "id": "8082128e-1772-415b-ad1c-72379066fe25",
   "metadata": {},
   "outputs": [
    {
     "data": {
      "text/plain": [
       "{'Benatia': 'Juventus',\n",
       " 'Messi': 'Barcelone',\n",
       " 'Pogba': 'ManU',\n",
       " 'Hazard': 'Chelsea'}"
      ]
     },
     "execution_count": 65,
     "metadata": {},
     "output_type": "execute_result"
    }
   ],
   "source": [
    "#Ajouter un nouveau élément dans dictionnaire\n",
    "équipe['Hazard'] = \"Chelsea\"\n",
    "équipe"
   ]
  },
  {
   "cell_type": "code",
   "execution_count": 75,
   "id": "56d9ef73-b08b-4cac-9a12-f8658ad9e599",
   "metadata": {},
   "outputs": [
    {
     "data": {
      "text/plain": [
       "'ManU'"
      ]
     },
     "execution_count": 75,
     "metadata": {},
     "output_type": "execute_result"
    }
   ],
   "source": [
    "équipe.get(\"Pogba\")"
   ]
  },
  {
   "cell_type": "code",
   "execution_count": 77,
   "id": "9d1e98e4-2833-44e8-b88e-7a5e62da4e53",
   "metadata": {},
   "outputs": [
    {
     "data": {
      "text/plain": [
       "False"
      ]
     },
     "execution_count": 77,
     "metadata": {},
     "output_type": "execute_result"
    }
   ],
   "source": [
    "'Cristiano' in équipe"
   ]
  },
  {
   "cell_type": "code",
   "execution_count": 79,
   "id": "9adeeab9-d37d-477c-9767-f5e0d8489faa",
   "metadata": {},
   "outputs": [],
   "source": [
    "del équipe['Messi']"
   ]
  },
  {
   "cell_type": "code",
   "execution_count": 81,
   "id": "852eee1a-cf01-42f6-9257-8f72683e2267",
   "metadata": {},
   "outputs": [
    {
     "data": {
      "text/plain": [
       "{'Benatia': 'Juventus', 'Pogba': 'ManU', 'Hazard': 'Chelsea'}"
      ]
     },
     "execution_count": 81,
     "metadata": {},
     "output_type": "execute_result"
    }
   ],
   "source": [
    "équipe"
   ]
  },
  {
   "cell_type": "code",
   "execution_count": 83,
   "id": "aeb17787-6a6c-4640-aaa5-44e152530db7",
   "metadata": {},
   "outputs": [],
   "source": [
    "équipe1 = {'Cristiano': 'Juventus', 'Hazard': 'Madrid'}"
   ]
  },
  {
   "cell_type": "code",
   "execution_count": 85,
   "id": "68661190-6a37-4eac-935b-a6a1fda2feb3",
   "metadata": {},
   "outputs": [],
   "source": [
    "#Pour mettre à jour équipe 1 à équipe\n",
    "équipe.update(équipe1)"
   ]
  },
  {
   "cell_type": "code",
   "execution_count": 87,
   "id": "daabb24e-7f27-4917-a02f-f54a95f016bc",
   "metadata": {},
   "outputs": [
    {
     "data": {
      "text/plain": [
       "{'Benatia': 'Juventus',\n",
       " 'Pogba': 'ManU',\n",
       " 'Hazard': 'Madrid',\n",
       " 'Cristiano': 'Juventus'}"
      ]
     },
     "execution_count": 87,
     "metadata": {},
     "output_type": "execute_result"
    }
   ],
   "source": [
    "équipe"
   ]
  },
  {
   "cell_type": "code",
   "execution_count": 93,
   "id": "d9a845e1-afb0-46df-bc5b-925866fd4c29",
   "metadata": {},
   "outputs": [],
   "source": [
    "### Utiliser les compréhensions"
   ]
  },
  {
   "cell_type": "code",
   "execution_count": 97,
   "id": "513d988d-0093-4168-9049-ab66b3054c36",
   "metadata": {},
   "outputs": [
    {
     "data": {
      "text/plain": [
       "range(0, 20)"
      ]
     },
     "execution_count": 97,
     "metadata": {},
     "output_type": "execute_result"
    }
   ],
   "source": [
    "liste =[]\n",
    "liste = range(20)\n",
    "liste"
   ]
  },
  {
   "cell_type": "code",
   "execution_count": 107,
   "id": "362bf253-05f8-4ad7-b4da-3603a10bfd16",
   "metadata": {},
   "outputs": [],
   "source": [
    "liste1 =[]\n",
    "for x in liste:\n",
    "    if (x % 2== 0) :\n",
    "        liste1.append(x)"
   ]
  },
  {
   "cell_type": "code",
   "execution_count": 109,
   "id": "29d94596-93ed-469f-a143-f6e5bee8b952",
   "metadata": {},
   "outputs": [
    {
     "data": {
      "text/plain": [
       "[0, 2, 4, 6, 8, 10, 12, 14, 16, 18]"
      ]
     },
     "execution_count": 109,
     "metadata": {},
     "output_type": "execute_result"
    }
   ],
   "source": [
    "liste1"
   ]
  },
  {
   "cell_type": "code",
   "execution_count": 111,
   "id": "70e7f9b0-fab4-4d78-8513-6960f5f5a3e8",
   "metadata": {},
   "outputs": [
    {
     "data": {
      "text/plain": [
       "[0, 2, 4, 6, 8, 10, 12, 14, 16, 18]"
      ]
     },
     "execution_count": 111,
     "metadata": {},
     "output_type": "execute_result"
    }
   ],
   "source": [
    "#Synthétiser le code\n",
    "liste2 = [x for x in liste if x % 2 == 0]\n",
    "liste2"
   ]
  },
  {
   "cell_type": "code",
   "execution_count": 118,
   "id": "f0a01ee3-2f80-40cf-a595-03d90e42fb66",
   "metadata": {},
   "outputs": [],
   "source": [
    "################# Partie de application en Data Science ########################"
   ]
  },
  {
   "cell_type": "code",
   "execution_count": 128,
   "id": "7b6acd21-30c1-4bbe-826c-4c82efd0b43e",
   "metadata": {},
   "outputs": [],
   "source": [
    "import pandas as pd\n",
    "\n",
    "e = pd.read_excel(\"/Users/handinh/Downloads/fichiers_d_exercice_Python_data_science/Chapitre_03/exemple.xlsx\")"
   ]
  },
  {
   "cell_type": "code",
   "execution_count": 130,
   "id": "427e9083-6089-42e6-997e-9ae1c33d3675",
   "metadata": {},
   "outputs": [
    {
     "data": {
      "text/html": [
       "<div>\n",
       "<style scoped>\n",
       "    .dataframe tbody tr th:only-of-type {\n",
       "        vertical-align: middle;\n",
       "    }\n",
       "\n",
       "    .dataframe tbody tr th {\n",
       "        vertical-align: top;\n",
       "    }\n",
       "\n",
       "    .dataframe thead th {\n",
       "        text-align: right;\n",
       "    }\n",
       "</style>\n",
       "<table border=\"1\" class=\"dataframe\">\n",
       "  <thead>\n",
       "    <tr style=\"text-align: right;\">\n",
       "      <th></th>\n",
       "      <th>Nom</th>\n",
       "      <th>Prénom</th>\n",
       "      <th>Note 1</th>\n",
       "      <th>Note 2</th>\n",
       "    </tr>\n",
       "  </thead>\n",
       "  <tbody>\n",
       "    <tr>\n",
       "      <th>0</th>\n",
       "      <td>Tremblay</td>\n",
       "      <td>Alex</td>\n",
       "      <td>16</td>\n",
       "      <td>12</td>\n",
       "    </tr>\n",
       "    <tr>\n",
       "      <th>1</th>\n",
       "      <td>Mestari</td>\n",
       "      <td>Ibrahim</td>\n",
       "      <td>13</td>\n",
       "      <td>16</td>\n",
       "    </tr>\n",
       "    <tr>\n",
       "      <th>2</th>\n",
       "      <td>Manjra</td>\n",
       "      <td>Sara</td>\n",
       "      <td>15</td>\n",
       "      <td>16</td>\n",
       "    </tr>\n",
       "  </tbody>\n",
       "</table>\n",
       "</div>"
      ],
      "text/plain": [
       "        Nom   Prénom  Note 1  Note 2\n",
       "0  Tremblay     Alex      16      12\n",
       "1   Mestari  Ibrahim      13      16\n",
       "2    Manjra     Sara      15      16"
      ]
     },
     "execution_count": 130,
     "metadata": {},
     "output_type": "execute_result"
    }
   ],
   "source": [
    "e"
   ]
  },
  {
   "cell_type": "code",
   "execution_count": 132,
   "id": "cc63bbb9-0658-40cf-b311-cda26a7210c1",
   "metadata": {},
   "outputs": [
    {
     "data": {
      "text/html": [
       "<div>\n",
       "<style scoped>\n",
       "    .dataframe tbody tr th:only-of-type {\n",
       "        vertical-align: middle;\n",
       "    }\n",
       "\n",
       "    .dataframe tbody tr th {\n",
       "        vertical-align: top;\n",
       "    }\n",
       "\n",
       "    .dataframe thead th {\n",
       "        text-align: right;\n",
       "    }\n",
       "</style>\n",
       "<table border=\"1\" class=\"dataframe\">\n",
       "  <thead>\n",
       "    <tr style=\"text-align: right;\">\n",
       "      <th></th>\n",
       "      <th>Nom</th>\n",
       "      <th>Prénom</th>\n",
       "      <th>Note 1</th>\n",
       "      <th>Note 2</th>\n",
       "      <th>Note finale</th>\n",
       "    </tr>\n",
       "  </thead>\n",
       "  <tbody>\n",
       "    <tr>\n",
       "      <th>0</th>\n",
       "      <td>Tremblay</td>\n",
       "      <td>Alex</td>\n",
       "      <td>16</td>\n",
       "      <td>12</td>\n",
       "      <td>14.0</td>\n",
       "    </tr>\n",
       "    <tr>\n",
       "      <th>1</th>\n",
       "      <td>Mestari</td>\n",
       "      <td>Ibrahim</td>\n",
       "      <td>13</td>\n",
       "      <td>16</td>\n",
       "      <td>14.5</td>\n",
       "    </tr>\n",
       "    <tr>\n",
       "      <th>2</th>\n",
       "      <td>Manjra</td>\n",
       "      <td>Sara</td>\n",
       "      <td>15</td>\n",
       "      <td>16</td>\n",
       "      <td>15.5</td>\n",
       "    </tr>\n",
       "  </tbody>\n",
       "</table>\n",
       "</div>"
      ],
      "text/plain": [
       "        Nom   Prénom  Note 1  Note 2  Note finale\n",
       "0  Tremblay     Alex      16      12         14.0\n",
       "1   Mestari  Ibrahim      13      16         14.5\n",
       "2    Manjra     Sara      15      16         15.5"
      ]
     },
     "execution_count": 132,
     "metadata": {},
     "output_type": "execute_result"
    }
   ],
   "source": [
    "#Créer et calculer la colonne \"Note finale\"\n",
    "e[\"Note finale\"] = (e[\"Note 1\"] + e[\"Note 2\"])/2\n",
    "e"
   ]
  },
  {
   "cell_type": "code",
   "execution_count": 136,
   "id": "8b5c3055-0a7d-4c9a-b38a-c09cb2ae1861",
   "metadata": {},
   "outputs": [],
   "source": [
    "#Pour stocker le résultat\n",
    "e.to_excel(\"resultat.xlsx\")"
   ]
  },
  {
   "cell_type": "code",
   "execution_count": 138,
   "id": "3fe47e7a-55f4-4c9b-b825-96b3dc663759",
   "metadata": {},
   "outputs": [
    {
     "ename": "FileNotFoundError",
     "evalue": "[Errno 2] No such file or directory: 'exemple.csv'",
     "output_type": "error",
     "traceback": [
      "\u001b[0;31m---------------------------------------------------------------------------\u001b[0m",
      "\u001b[0;31mFileNotFoundError\u001b[0m                         Traceback (most recent call last)",
      "Cell \u001b[0;32mIn[138], line 2\u001b[0m\n\u001b[1;32m      1\u001b[0m \u001b[38;5;66;03m# Importer un fichier csv\u001b[39;00m\n\u001b[0;32m----> 2\u001b[0m e1 \u001b[38;5;241m=\u001b[39m pd\u001b[38;5;241m.\u001b[39mread_csv(\u001b[38;5;124m\"\u001b[39m\u001b[38;5;124mexemple.csv\u001b[39m\u001b[38;5;124m\"\u001b[39m)\n",
      "File \u001b[0;32m/opt/anaconda3/lib/python3.12/site-packages/pandas/io/parsers/readers.py:1026\u001b[0m, in \u001b[0;36mread_csv\u001b[0;34m(filepath_or_buffer, sep, delimiter, header, names, index_col, usecols, dtype, engine, converters, true_values, false_values, skipinitialspace, skiprows, skipfooter, nrows, na_values, keep_default_na, na_filter, verbose, skip_blank_lines, parse_dates, infer_datetime_format, keep_date_col, date_parser, date_format, dayfirst, cache_dates, iterator, chunksize, compression, thousands, decimal, lineterminator, quotechar, quoting, doublequote, escapechar, comment, encoding, encoding_errors, dialect, on_bad_lines, delim_whitespace, low_memory, memory_map, float_precision, storage_options, dtype_backend)\u001b[0m\n\u001b[1;32m   1013\u001b[0m kwds_defaults \u001b[38;5;241m=\u001b[39m _refine_defaults_read(\n\u001b[1;32m   1014\u001b[0m     dialect,\n\u001b[1;32m   1015\u001b[0m     delimiter,\n\u001b[0;32m   (...)\u001b[0m\n\u001b[1;32m   1022\u001b[0m     dtype_backend\u001b[38;5;241m=\u001b[39mdtype_backend,\n\u001b[1;32m   1023\u001b[0m )\n\u001b[1;32m   1024\u001b[0m kwds\u001b[38;5;241m.\u001b[39mupdate(kwds_defaults)\n\u001b[0;32m-> 1026\u001b[0m \u001b[38;5;28;01mreturn\u001b[39;00m _read(filepath_or_buffer, kwds)\n",
      "File \u001b[0;32m/opt/anaconda3/lib/python3.12/site-packages/pandas/io/parsers/readers.py:620\u001b[0m, in \u001b[0;36m_read\u001b[0;34m(filepath_or_buffer, kwds)\u001b[0m\n\u001b[1;32m    617\u001b[0m _validate_names(kwds\u001b[38;5;241m.\u001b[39mget(\u001b[38;5;124m\"\u001b[39m\u001b[38;5;124mnames\u001b[39m\u001b[38;5;124m\"\u001b[39m, \u001b[38;5;28;01mNone\u001b[39;00m))\n\u001b[1;32m    619\u001b[0m \u001b[38;5;66;03m# Create the parser.\u001b[39;00m\n\u001b[0;32m--> 620\u001b[0m parser \u001b[38;5;241m=\u001b[39m TextFileReader(filepath_or_buffer, \u001b[38;5;241m*\u001b[39m\u001b[38;5;241m*\u001b[39mkwds)\n\u001b[1;32m    622\u001b[0m \u001b[38;5;28;01mif\u001b[39;00m chunksize \u001b[38;5;129;01mor\u001b[39;00m iterator:\n\u001b[1;32m    623\u001b[0m     \u001b[38;5;28;01mreturn\u001b[39;00m parser\n",
      "File \u001b[0;32m/opt/anaconda3/lib/python3.12/site-packages/pandas/io/parsers/readers.py:1620\u001b[0m, in \u001b[0;36mTextFileReader.__init__\u001b[0;34m(self, f, engine, **kwds)\u001b[0m\n\u001b[1;32m   1617\u001b[0m     \u001b[38;5;28mself\u001b[39m\u001b[38;5;241m.\u001b[39moptions[\u001b[38;5;124m\"\u001b[39m\u001b[38;5;124mhas_index_names\u001b[39m\u001b[38;5;124m\"\u001b[39m] \u001b[38;5;241m=\u001b[39m kwds[\u001b[38;5;124m\"\u001b[39m\u001b[38;5;124mhas_index_names\u001b[39m\u001b[38;5;124m\"\u001b[39m]\n\u001b[1;32m   1619\u001b[0m \u001b[38;5;28mself\u001b[39m\u001b[38;5;241m.\u001b[39mhandles: IOHandles \u001b[38;5;241m|\u001b[39m \u001b[38;5;28;01mNone\u001b[39;00m \u001b[38;5;241m=\u001b[39m \u001b[38;5;28;01mNone\u001b[39;00m\n\u001b[0;32m-> 1620\u001b[0m \u001b[38;5;28mself\u001b[39m\u001b[38;5;241m.\u001b[39m_engine \u001b[38;5;241m=\u001b[39m \u001b[38;5;28mself\u001b[39m\u001b[38;5;241m.\u001b[39m_make_engine(f, \u001b[38;5;28mself\u001b[39m\u001b[38;5;241m.\u001b[39mengine)\n",
      "File \u001b[0;32m/opt/anaconda3/lib/python3.12/site-packages/pandas/io/parsers/readers.py:1880\u001b[0m, in \u001b[0;36mTextFileReader._make_engine\u001b[0;34m(self, f, engine)\u001b[0m\n\u001b[1;32m   1878\u001b[0m     \u001b[38;5;28;01mif\u001b[39;00m \u001b[38;5;124m\"\u001b[39m\u001b[38;5;124mb\u001b[39m\u001b[38;5;124m\"\u001b[39m \u001b[38;5;129;01mnot\u001b[39;00m \u001b[38;5;129;01min\u001b[39;00m mode:\n\u001b[1;32m   1879\u001b[0m         mode \u001b[38;5;241m+\u001b[39m\u001b[38;5;241m=\u001b[39m \u001b[38;5;124m\"\u001b[39m\u001b[38;5;124mb\u001b[39m\u001b[38;5;124m\"\u001b[39m\n\u001b[0;32m-> 1880\u001b[0m \u001b[38;5;28mself\u001b[39m\u001b[38;5;241m.\u001b[39mhandles \u001b[38;5;241m=\u001b[39m get_handle(\n\u001b[1;32m   1881\u001b[0m     f,\n\u001b[1;32m   1882\u001b[0m     mode,\n\u001b[1;32m   1883\u001b[0m     encoding\u001b[38;5;241m=\u001b[39m\u001b[38;5;28mself\u001b[39m\u001b[38;5;241m.\u001b[39moptions\u001b[38;5;241m.\u001b[39mget(\u001b[38;5;124m\"\u001b[39m\u001b[38;5;124mencoding\u001b[39m\u001b[38;5;124m\"\u001b[39m, \u001b[38;5;28;01mNone\u001b[39;00m),\n\u001b[1;32m   1884\u001b[0m     compression\u001b[38;5;241m=\u001b[39m\u001b[38;5;28mself\u001b[39m\u001b[38;5;241m.\u001b[39moptions\u001b[38;5;241m.\u001b[39mget(\u001b[38;5;124m\"\u001b[39m\u001b[38;5;124mcompression\u001b[39m\u001b[38;5;124m\"\u001b[39m, \u001b[38;5;28;01mNone\u001b[39;00m),\n\u001b[1;32m   1885\u001b[0m     memory_map\u001b[38;5;241m=\u001b[39m\u001b[38;5;28mself\u001b[39m\u001b[38;5;241m.\u001b[39moptions\u001b[38;5;241m.\u001b[39mget(\u001b[38;5;124m\"\u001b[39m\u001b[38;5;124mmemory_map\u001b[39m\u001b[38;5;124m\"\u001b[39m, \u001b[38;5;28;01mFalse\u001b[39;00m),\n\u001b[1;32m   1886\u001b[0m     is_text\u001b[38;5;241m=\u001b[39mis_text,\n\u001b[1;32m   1887\u001b[0m     errors\u001b[38;5;241m=\u001b[39m\u001b[38;5;28mself\u001b[39m\u001b[38;5;241m.\u001b[39moptions\u001b[38;5;241m.\u001b[39mget(\u001b[38;5;124m\"\u001b[39m\u001b[38;5;124mencoding_errors\u001b[39m\u001b[38;5;124m\"\u001b[39m, \u001b[38;5;124m\"\u001b[39m\u001b[38;5;124mstrict\u001b[39m\u001b[38;5;124m\"\u001b[39m),\n\u001b[1;32m   1888\u001b[0m     storage_options\u001b[38;5;241m=\u001b[39m\u001b[38;5;28mself\u001b[39m\u001b[38;5;241m.\u001b[39moptions\u001b[38;5;241m.\u001b[39mget(\u001b[38;5;124m\"\u001b[39m\u001b[38;5;124mstorage_options\u001b[39m\u001b[38;5;124m\"\u001b[39m, \u001b[38;5;28;01mNone\u001b[39;00m),\n\u001b[1;32m   1889\u001b[0m )\n\u001b[1;32m   1890\u001b[0m \u001b[38;5;28;01massert\u001b[39;00m \u001b[38;5;28mself\u001b[39m\u001b[38;5;241m.\u001b[39mhandles \u001b[38;5;129;01mis\u001b[39;00m \u001b[38;5;129;01mnot\u001b[39;00m \u001b[38;5;28;01mNone\u001b[39;00m\n\u001b[1;32m   1891\u001b[0m f \u001b[38;5;241m=\u001b[39m \u001b[38;5;28mself\u001b[39m\u001b[38;5;241m.\u001b[39mhandles\u001b[38;5;241m.\u001b[39mhandle\n",
      "File \u001b[0;32m/opt/anaconda3/lib/python3.12/site-packages/pandas/io/common.py:873\u001b[0m, in \u001b[0;36mget_handle\u001b[0;34m(path_or_buf, mode, encoding, compression, memory_map, is_text, errors, storage_options)\u001b[0m\n\u001b[1;32m    868\u001b[0m \u001b[38;5;28;01melif\u001b[39;00m \u001b[38;5;28misinstance\u001b[39m(handle, \u001b[38;5;28mstr\u001b[39m):\n\u001b[1;32m    869\u001b[0m     \u001b[38;5;66;03m# Check whether the filename is to be opened in binary mode.\u001b[39;00m\n\u001b[1;32m    870\u001b[0m     \u001b[38;5;66;03m# Binary mode does not support 'encoding' and 'newline'.\u001b[39;00m\n\u001b[1;32m    871\u001b[0m     \u001b[38;5;28;01mif\u001b[39;00m ioargs\u001b[38;5;241m.\u001b[39mencoding \u001b[38;5;129;01mand\u001b[39;00m \u001b[38;5;124m\"\u001b[39m\u001b[38;5;124mb\u001b[39m\u001b[38;5;124m\"\u001b[39m \u001b[38;5;129;01mnot\u001b[39;00m \u001b[38;5;129;01min\u001b[39;00m ioargs\u001b[38;5;241m.\u001b[39mmode:\n\u001b[1;32m    872\u001b[0m         \u001b[38;5;66;03m# Encoding\u001b[39;00m\n\u001b[0;32m--> 873\u001b[0m         handle \u001b[38;5;241m=\u001b[39m \u001b[38;5;28mopen\u001b[39m(\n\u001b[1;32m    874\u001b[0m             handle,\n\u001b[1;32m    875\u001b[0m             ioargs\u001b[38;5;241m.\u001b[39mmode,\n\u001b[1;32m    876\u001b[0m             encoding\u001b[38;5;241m=\u001b[39mioargs\u001b[38;5;241m.\u001b[39mencoding,\n\u001b[1;32m    877\u001b[0m             errors\u001b[38;5;241m=\u001b[39merrors,\n\u001b[1;32m    878\u001b[0m             newline\u001b[38;5;241m=\u001b[39m\u001b[38;5;124m\"\u001b[39m\u001b[38;5;124m\"\u001b[39m,\n\u001b[1;32m    879\u001b[0m         )\n\u001b[1;32m    880\u001b[0m     \u001b[38;5;28;01melse\u001b[39;00m:\n\u001b[1;32m    881\u001b[0m         \u001b[38;5;66;03m# Binary mode\u001b[39;00m\n\u001b[1;32m    882\u001b[0m         handle \u001b[38;5;241m=\u001b[39m \u001b[38;5;28mopen\u001b[39m(handle, ioargs\u001b[38;5;241m.\u001b[39mmode)\n",
      "\u001b[0;31mFileNotFoundError\u001b[0m: [Errno 2] No such file or directory: 'exemple.csv'"
     ]
    }
   ],
   "source": [
    "# Importer un fichier csv\n",
    "e1 = pd.read_csv(\"exemple.csv\") #séparer en virgule\n",
    "e1 = pd.read_csv(\"exemple.csv\", sep = \";\") # séparer en ;"
   ]
  },
  {
   "cell_type": "code",
   "execution_count": 146,
   "id": "58f07b97-8f30-4c7f-bc96-cf6cbc2d1ebc",
   "metadata": {},
   "outputs": [
    {
     "data": {
      "text/plain": [
       "['PDFServletAttestationDeDroits.dopdf.pdf',\n",
       " 'Tran Gia Han DINH-CV(Gustave).pdf',\n",
       " 'CV_Tran Gia Han_DINH_undefined_20250407.pdf',\n",
       " 'read_shutter_gphoto2',\n",
       " 'Tran Gia Han DINH-CV(CENTRAGROUP).pdf',\n",
       " 'TD3 (4).pdf',\n",
       " 'eolien_national',\n",
       " 'Transp-Stat-des-univariee.pdf',\n",
       " '42011553-20232024-L2EconomieetGestionCMIDataScienceforSocialSciences-Releve-3.pdf',\n",
       " 'Tran Gia Han DINH-CV(alternance).pdf',\n",
       " '2_2_2_emp_2019_mobilite_locale_le_week_end.xlsx',\n",
       " 'maison_zone_cha.csv',\n",
       " 'Tran Gia Han DINH-CV(CNP Assurances).pdf',\n",
       " 'artifact.tar',\n",
       " 'Diplomes_csv',\n",
       " 'Cours4_Classes_abstraites_et_interfaces.pdf',\n",
       " 'fiche.csv',\n",
       " 'Mon dossier.pdf',\n",
       " 'Demandeurs d’emploi inscrits en fin de mois à France Travail par Métier et par Qualification - Franc.csv',\n",
       " 'script création BD Mangas.sql',\n",
       " '.Rhistory',\n",
       " 'contrat_elec.pdf',\n",
       " 'S5-MathsDynam-2024-CC2.pdf',\n",
       " 'TRAN+GIA+HAN+DINH_CV%28AXA%29.pdf',\n",
       " 'Tran Gia Han DINH-10.pdf',\n",
       " 'BreePeru_RegularOblique.woff',\n",
       " 'BreePeru',\n",
       " 'Tran Gia Han DINH-11.pdf',\n",
       " 'DINH Tran Gia Han_CV.pdf',\n",
       " '_80a72b1369dfd15319274bec0f5f5f92_Confusion-Matrix-Terms.xlsx',\n",
       " 'Tran Gia Han DINH-CV(stellantis).pdf',\n",
       " 'Python for Data Science.ipynb',\n",
       " 'L3Eco_EI_examen_mai2018_correction.pdf',\n",
       " 'Ch12024.pdf',\n",
       " 'acte_naissance.pdf',\n",
       " 'image0.jpeg',\n",
       " 'logo-2022-gtm-batiment.png',\n",
       " 'data_projet1.zip',\n",
       " '42011553-20232024-L2EconomieetGestionCMIDataScienceforSocialSciences-Releve-2.pdf',\n",
       " 'photos pérou',\n",
       " '_3018b33bc95be03160dd0bb641991d7f_Binary-Performance-Metrics.xlsx',\n",
       " 'QCM1.pdf',\n",
       " 'TD2_PLgraphique.pdf',\n",
       " 'WhatsApp Image 2024-12-24 at 17.18.14.jpeg',\n",
       " 'TextedeVroey.pdf',\n",
       " 'Proprietaires_csv',\n",
       " 'QCM3.pdf',\n",
       " 'TD5_chemins.pdf',\n",
       " 'Théorie de la Croissance- Fiches de révions-Modèle de Solow.pages',\n",
       " 'Tran Gia Han DINH-CV(Boulanger) copie.pdf',\n",
       " '2020-2021_ExoL3Eco-2.pdf',\n",
       " 'tittre%20de%20sejour%202026.pdf',\n",
       " '42011553-20242025-L3EconomieetgestionCMIDataScienceforSocialSciences-Releve-3.pdf',\n",
       " '42011553-CertificatScol.pdf',\n",
       " 'TP1_SIG',\n",
       " 'Cours1_introduction_complexite.pdf',\n",
       " '_29c2c4c28c19ceac74c0974e5ce435b7_Solver-Add-In.xlsx',\n",
       " 'L3Eco_EI_examen_mai2017_correction.pdf',\n",
       " 'Design sans titre.jpg',\n",
       " 'S5-MathsDynam-2024-CC1.pdf',\n",
       " 'Cours7_Généricité.pdf',\n",
       " 'CHA_Agricole_IC_18.csv',\n",
       " 'Tran Gia Han DINH-13.pdf',\n",
       " '2025_04_18_04_59_08_DataEmploi_panorama.pdf',\n",
       " 'iris2.csv',\n",
       " 'Tran Gia Han DINH-12.pdf',\n",
       " 'Notes RO 2024 - 2025 Paris Nanterre - Groupe 4.pdf',\n",
       " 'TP1_Rappels.pdf',\n",
       " 'Théorie_de_la_Croissance-_Fiches_de_révions-Modèle_de_Solow.pdf',\n",
       " '_f3ef0701f408b0fae584b1a713e84748_Week-1-Practice-Quiz-Spreadsheet.xlsx',\n",
       " 'cours_3_SQL_LID_De_Base.pdf',\n",
       " 'IMG_4660.jpg',\n",
       " 'Lettrerecommandation_giahan.pdf',\n",
       " 'Transp2Var.pdf',\n",
       " 'TRAN GIA HAN DINH_CV(français).pdf',\n",
       " 'attestation_hebergement.pdf',\n",
       " 'abstrait-geometrique-filaire_52683-59421.jpg.avif',\n",
       " \"Demandeurs d’emploi inscrits en fin de mois à France Travail par Métier et par Tranche d'âge - Franc.csv\",\n",
       " '42011553-20242025-L3EconomieetgestionCMIDataScienceforSocialSciences-Releve-2.pdf',\n",
       " 'L3ECO_EI_c2_etu.pdf',\n",
       " 'DINH+Tran+Gia+Han_CV+%28alternance%29.pdf',\n",
       " 'econometrie-cours-de-troisieme-annee-2.pdf',\n",
       " 'critical_raw_materials.pdf',\n",
       " 'QCM2.pdf',\n",
       " 'Avis_d_impot_2022_sur_les_revenus_2021.pdf',\n",
       " 'exosACP.pdf',\n",
       " '4_Algorithms_competition1.pdf',\n",
       " 'accueilespaceetudiant41.svg',\n",
       " 'CV_Tran Gia Han_DINH_undefined_20250401.pdf',\n",
       " 'PJ_AI_42011553_2025.pdf',\n",
       " 'TD1_CMI2024.py',\n",
       " 'SCAN1655.pdf',\n",
       " 'TP2.zip',\n",
       " '42011553-20242025-L3EconomieetgestionCMIDataScienceforSocialSciences-Releve-6.pdf',\n",
       " '2021-2022_ExamenCorrigéL3Eco.pdf',\n",
       " '2020-2021_ExoL3Eco.pdf',\n",
       " 'IMG_5988.PNG',\n",
       " 'ilovepdf_extracted-pages-2',\n",
       " 'VAD_0000090240.pdf',\n",
       " '.DS_Store',\n",
       " 'Demande n°2508-I-3197761.pdf',\n",
       " 'Tran Gia Han DINH-16.pdf',\n",
       " '24_CC1_test.pdf',\n",
       " 'istockphoto-1388676876-612x612.jpg',\n",
       " 'images.jpeg',\n",
       " 'Tran Gia Han DINH-17.pdf',\n",
       " 'Menu Restaurant Simple Orange et Beige-2.pdf',\n",
       " 'workspace.code-workspace',\n",
       " 'Releve-compte-29-09-2023.pdf',\n",
       " 'TRAN GIA HAN DINH_CV.pdf',\n",
       " '42011553-20232024-L2EconomieetGestionCMIDataScienceforSocialSciences-Releve-4.pdf',\n",
       " 'cours3_slidesPL.pdf',\n",
       " 'Clients.csv',\n",
       " '42011553-20242025-L3EconomieetgestionCMIDataScienceforSocialSciences-Releve-7.pdf',\n",
       " 'series_offres_difusees.xlsx',\n",
       " 'Slides2_L3_Eco_Stat.pdf',\n",
       " 'TP2_Exceptions.pdf',\n",
       " 'ficheMetierPdf',\n",
       " 'fotor-20240925111149.jpg',\n",
       " 'BDA - TD2.pdf',\n",
       " 'Attestation_placement_en_recherche_de_contrat_PARIS 10-2.pdf',\n",
       " 'Presented by DINH Tran Gia Han.pdf',\n",
       " 'Cours4_Algorithmes_De_Tri.pdf',\n",
       " 'clc-pmrig-sql',\n",
       " 'Donnees_consolidees_2024',\n",
       " 'FileZilla_3.67.1_macos-x86.app.tar.bz2',\n",
       " 'CHA_Agricole_Urbain_18.csv',\n",
       " 'tabac.csv',\n",
       " 'requirements.txt',\n",
       " 'Chapitre 4-2- EcoIndusJM2024 -vertical.pdf',\n",
       " 'contrat_engagement.pdf',\n",
       " 'img_0005.jpg',\n",
       " 'ch_complexes.pdf',\n",
       " 'Cours-10_04_24-2.pdf',\n",
       " 'TD1_modélisation.pdf',\n",
       " 'L3Eco_EI_examen_mai2019_correction.pdf',\n",
       " 'examen-20-mai-2015-questions-et-reponses.pdf',\n",
       " 'ilovepdf_extracted-pages-3',\n",
       " 'Tran Gia Han DINH_CVmonMaster.pdf',\n",
       " '42011553-20242025-L3EconomieetgestionCMIDataScienceforSocialSciences-Releve-5.pdf',\n",
       " 'Modele-de-contrat-engagement-16072024-1.pdf',\n",
       " 'TD_3_Sujet.pdf',\n",
       " 'econometrie-2-cours-complet-deconometrie-2-semestre-6-deconomie-a-luniversite-paris-nanterre.pdf',\n",
       " 'TD6_flots.pdf',\n",
       " 'chapitre-1-definitions-faits-stylises-et-introduction-aux-differentes-theories-explicatives.pdf',\n",
       " '-- SQLite_L3_tsalle.sql',\n",
       " 'Chapitre 1 (2).pdf',\n",
       " 'Tran Gia Han DINH-15.pdf',\n",
       " 'choix_de_parcours_2.docx',\n",
       " 'logo-mincetur.png',\n",
       " 'Tran Gia Han DINH-14.pdf',\n",
       " 'sac_a_dos.pdf',\n",
       " '2021-2022_CC1.pdf',\n",
       " 'MIGNON_Doc_cours_Econometrie1_L3_150ex.pdf',\n",
       " 'Notes RO 2024 - 2025 Paris Nanterre - Feuille 1.pdf',\n",
       " 'Tran Gia Han DINH_LM.pdf',\n",
       " 'justificatifs_presence_en_France_2023-2025 .pdf',\n",
       " 'CM_2 Python.pptx',\n",
       " 'Projet_1_S_séries_chronologiques.pdf',\n",
       " 'attestation_REN5MNPDQX36.pdf',\n",
       " 'portrait.jpg',\n",
       " 'DINH Tran Gia Han_CV-2.pdf',\n",
       " '.localized',\n",
       " 'Mai Anh_CV updated September 2023.pdf',\n",
       " 'cours_3_SQL_LDD.pdf',\n",
       " '42011553-20242025-L3EconomieetgestionCMIDataScienceforSocialSciences-Releve-4.pdf',\n",
       " '-- SQLite_L2_tcours.sql',\n",
       " 'Capital_immobilier_csv',\n",
       " 'BDA - TD1.pdf',\n",
       " 'convention_43333_TRAN GIA HAN_DINH 2.pdf',\n",
       " 'fichiers_d_exercice_power_bi_analyse_donnees_dax',\n",
       " 'Annonce travaux.pdf',\n",
       " 'cog_ensemble_2024_csv',\n",
       " 'QCM4.pdf',\n",
       " 'Demandeurs d’emploi inscrits en fin de mois à France Travail par Métier et par Niveau de formation -.csv',\n",
       " 'BreePeru_Regular.woff',\n",
       " 'logo-marca-peru-logo-peru-11562879862d3cyxvimi5.png',\n",
       " 'BreePeru_Bold.woff',\n",
       " 'L1_tcours (1).xlsx',\n",
       " '42011553-CertificatScol-3.pdf',\n",
       " '20210225-donnees-rapport-mobilite-acces-emploi',\n",
       " 'DINH+Tran+Gia+Han+-+CV.pdf',\n",
       " '42011553-20242025-L3EconomieetgestionCMIDataScienceforSocialSciences-Releve.pdf',\n",
       " \"Devoir comparaison d'algo de tris\",\n",
       " 'f53fb60c-c461-406b-8aa0-604dcb36b1d5.jpg',\n",
       " 'MANUAL DE IMAGEN - MARCA PERÚ 2019 (1)-1 (1) (1) - copie.pdf',\n",
       " 'fichiers_d_exercice_Python_data_science',\n",
       " 'Tran Gia Han DINH-CV(AirLiquide).pdf',\n",
       " '2_1_2_emp2019_mobilite_locale_semaine_modes_transport_principaux.xlsx',\n",
       " 'Ch3_CEL2024.pdf',\n",
       " 'Tran Gia Han DINH-6.pdf',\n",
       " 'domaine-professionnel.csv',\n",
       " 'attestation_43333_TRAN GIA HAN_DINH.pdf',\n",
       " 'coursMiage2018.pdf',\n",
       " 'Films.sql',\n",
       " 'CM_1 Python.pptx',\n",
       " 'dares_defm_stock_france_brut_trim.csv',\n",
       " 'Cours1_Intro Java.pdf',\n",
       " 'Image-ExifTool-13.35',\n",
       " 'Slides3_L3_Eco_Stat.pdf',\n",
       " '2021-2022_CC2_Correction-2.pdf',\n",
       " 'Tran Gia Han DINH-CV(stage).pdf',\n",
       " 'Tran Gia Han DINH-7.pdf',\n",
       " 'DINH_contrat_engagement.pdf',\n",
       " 'Attestation_de_refus_PARIS SACLAY.pdf',\n",
       " 'Tran Gia Han DINH-LM(Decathlon).pdf',\n",
       " 'Digmarkets_M1IESD3S_Ecodroit-digmarkets.pdf',\n",
       " 'econometrie-cours-de-troisieme-annee.pdf',\n",
       " 'ADE25_tableau-garanties.pdf',\n",
       " 'Souscription LMDE Tran Gia Han DINH.zip',\n",
       " 'Tran Gia Han DINH-CV (Groupama).pdf',\n",
       " '42011553-CertificatScol-2.pdf',\n",
       " 'DINH+Tran+Gia+Han+-+LM.pdf',\n",
       " 'Cours PLSQL - curseurs.html',\n",
       " 'clc_cha_18.csv',\n",
       " 'RefRomeCsv',\n",
       " 'piles.txt',\n",
       " 'CLC06_FR_RGF_SHP',\n",
       " 'IMG_2677.JPG',\n",
       " 'BreePeru_LightOblique.woff',\n",
       " 'TRAN GIA HAN DINH 5-1.pdf',\n",
       " '11-AWT.pdf',\n",
       " 'SCAN1655-1.pdf',\n",
       " 'dares_defm_age_detaille_trim.csv',\n",
       " 'chap2-analyse-2.pdf',\n",
       " 'TD1_diviser_pour_regner.pdf',\n",
       " 'PDFServletReleveMensuel.dopdf-2.pdf',\n",
       " 'Tran Gia Han DINH-5.pdf',\n",
       " 'lghub_installer.app',\n",
       " 'TP2',\n",
       " 'Tran Gia Han DINH-LM(LVMH).pdf',\n",
       " 'Unknown.jpg',\n",
       " 'Extraction ADE(2618).xlsx',\n",
       " 'Opera Installer.app',\n",
       " '(corrigé) Presentation analyse de donnees .pptx',\n",
       " 'Tran Gia Han DINH-LM(stellantis).pdf',\n",
       " 'profil.jpg',\n",
       " 'CV_Tran Gia Han_DINH_Nanterre_20250619.pdf',\n",
       " 'Cours5_Collections.pdf',\n",
       " 'AttestationHebergement.pdf',\n",
       " 'Tran Gia Han DINH-LM(CNP Assurances).pdf',\n",
       " 'Logo_Paris_Nanterre.jpg',\n",
       " 'convention_43333_TRAN GIA HAN_DINH_1.pdf',\n",
       " 'Iris.Rmd',\n",
       " 'DINH+Tran+Gia+Han+-+CV-2.pdf',\n",
       " 'Tutoriel - Les déclencheurs (Triggers) dans Oracle PL-SQL.html',\n",
       " 'Tran Gia Han DINH-4.pdf',\n",
       " 'PDFServletReleveMensuel.dopdf-3.pdf',\n",
       " 'attestation_VER4WRBVLM59.pdf',\n",
       " '2021-2022_CC2_Correction.pdf',\n",
       " 'emp_2019_donnees_individuelles_anonymisees_novembre2024-2',\n",
       " 'TD3_PL_simplexe.pdf',\n",
       " 'Tran Gia Han DINH-CV(alt AXA).pdf',\n",
       " 'Cours-10_04_24.pdf',\n",
       " 'Tran Gia Han DINH-CV(Groupama).pdf',\n",
       " 'Avis_d_impot_2023_sur_les_revenus_2022.pdf',\n",
       " 'exceptions_données.md',\n",
       " 'cours5_Graphes_chemins.pdf',\n",
       " 'mẫu-tk02.pdf',\n",
       " 'sig3',\n",
       " 'Cours3_problemes_de_decision.pdf',\n",
       " 'Souscription LMDE Tran Gia Han DINH',\n",
       " 'Modele-de-contrat-engagement-16072024.pdf',\n",
       " 'themeicons-webfont.woff',\n",
       " 'PDFServletReleveMensuel.dopdf.pdf',\n",
       " 'RStudio-2025.05.1-513.dmg',\n",
       " 'Tran+Gia+Han+DINH-CV.pdf',\n",
       " 'var_socio_dep.csv',\n",
       " 'Projet1.Rmd',\n",
       " 'Bulletins 01_2025.pdf',\n",
       " 'Cours4_Tri_Fusion.jpg',\n",
       " 'Catalogue des cours CMI - Data science for Social Sciences - 2024-09-16.pdf',\n",
       " 'CHA_Agricole_RR_18.csv',\n",
       " 'pres2022_csv',\n",
       " 'TD1 (4).pdf',\n",
       " 'Correction_TD_1_RO___L3_Paris_Nanterre.pdf',\n",
       " 'attestationTitulaireContrat.pdf',\n",
       " 'Chapitre 3-1 - EcoIndusJM2024.pdf',\n",
       " 'var_socio_demo.csv',\n",
       " 'Cours4_Tri_Rapide.pdf',\n",
       " 'recherche_sommet.c',\n",
       " 'DSE_2526-2025-62288320_V1_NOTIF_DEFINITIVE_202509041357.pdf',\n",
       " 'slides_flots.pdf',\n",
       " 'fichiers_d_exercice_VBA_debutant',\n",
       " 'Cours 1 slides.pdf',\n",
       " 'clc-nomenclature-c_1.xls',\n",
       " 'Théorie_de_la_Croissance-_Fiches_de_révions.pdf',\n",
       " 'EEC2023_Questionnaire_T1_2023_01_19.pdf',\n",
       " 'Tran Gia Han DINH-LM alt Saint Gobain.pdf',\n",
       " 'Releve-compte-31-07-2023.pdf',\n",
       " 'Tran Gia Han DINH-CV(renault).pdf',\n",
       " '42011553-CertificatScol-4.pdf',\n",
       " 'lima-cta.jpg',\n",
       " 'application-chapitre1.pdf',\n",
       " 'IMG_0488.HEIC',\n",
       " '17',\n",
       " 'chap2-analyse.pdf',\n",
       " 'cours4_Graphes_intro-2.pdf',\n",
       " 'clc-pne-rg.7z',\n",
       " 'UTM.dmg',\n",
       " '_8ce7a1c206cbf3390ce6ae7e98fb033e_Review-of-AUC-for-ROC-Curve.xlsx',\n",
       " 'Projet2.Rmd',\n",
       " 'Tran Gia Han DINH-3.pdf',\n",
       " 'RLV_CHQ_300040217200000697456_20241021.pdf',\n",
       " 'Tran Gia Han DINH_CV(stage).pdf',\n",
       " 'Slides4_L3_Eco_Stat.pdf',\n",
       " '[DINH Tran Gia Han] Avis_d_impot_2022_2023_2024.pdf',\n",
       " 'Tran Gia Han DINH.pdf',\n",
       " 'RStudio-2024.09.0-375.dmg',\n",
       " 'convention_43333_TRAN GIA HAN_DINH_1-2.pdf',\n",
       " 'Tran Gia Han DINH_CV(alt).pdf',\n",
       " 'Tran Gia Han DINH_CV(stellantis).pdf',\n",
       " 'CLC12_FR_RGF_SHP',\n",
       " 'Cours2-PL-SQL_ex_enonce.html',\n",
       " 'Tran Gia Han DINH-2.pdf',\n",
       " '-- SQLite_L1_enseignants.sql',\n",
       " 'Demandeurs d’emploi inscrits en fin de mois à France Travail par Métier - France métropolitaine - Oc-2.csv',\n",
       " 'clc-nomenclature-c_2.xls',\n",
       " 'vaches.csv',\n",
       " '20230823-communes-departement-region.csv',\n",
       " 'Resume202509101215.pdf',\n",
       " 'AttestationDeDroits_2025-09-11.pdf',\n",
       " 'Slides1_L3_Eco_Stat.pdf',\n",
       " 'L3_eco_indus_TD_3.pdf',\n",
       " 'interroVB.pdf',\n",
       " 'Han_Dinh_LM.pdf',\n",
       " 'Syllabus_Econum_M1IESD3S.pdf',\n",
       " 'rib_boursobank-1747132114549.pdf',\n",
       " 'justificatifs_presence_en_France.pdf',\n",
       " 'Install Spotify.app',\n",
       " 'explication.pdf',\n",
       " 'test_database',\n",
       " 'resultat.xlsx',\n",
       " \"Sortants_de_formation_et_retour_%c3%a0_l'emploi_4e_trimestre_2022.xls\",\n",
       " 'Confusion Matrix Terms.pdf',\n",
       " '22631.2861.231204-0538.23H2_NI_RELEASE_SVC_REFRESH_CLIENTCONSUMER_RET_A64FRE_fr-fr.iso',\n",
       " 'cours2_Slides_¨PL2.pdf',\n",
       " 'Mau_don_trinh_bao_mat_Ho_chieu-TK05_2022.doc',\n",
       " '250923_BIZOUARD_Fiche_Poste_Alternant_Data_Science (1).pdf',\n",
       " 'set_cover.pdf',\n",
       " 'traumatisme.txt',\n",
       " 'CLC00_FR_RGF_SHP',\n",
       " 'DINH_justificatifs_presence_France_compressed.pdf',\n",
       " 'S5-MathsDynam-2023-CC1.pdf',\n",
       " 'Logo_Université_Paris-Nanterre.svg.png',\n",
       " 'cccd anh Long.pdf',\n",
       " 'Cours2_introduction_complexite_P2.pdf',\n",
       " 'chapitre1.pdf',\n",
       " 'ilovepdf_extracted-pages',\n",
       " 'EA99CC738B99D0AA67987EC2976D550F.webp',\n",
       " 'ExifTool-13.35.pkg',\n",
       " 'Test gratuit psychotechniqua.com.pdf',\n",
       " 'dares_defm_stock_france_brut_mens.csv',\n",
       " 'Attestation_decision_favorable_12-09-2025.pdf',\n",
       " 'Chapitre 4-1 - EcoIndusJM2024 -horizontal.pdf',\n",
       " 'L3_eco_indus_TD_2.pdf',\n",
       " 'CC1 Yol Nicholas.pages',\n",
       " 'livret_apprentissage.pdf',\n",
       " 'rib_DINH_NhatVu.pdf',\n",
       " 'demandes_emploi_T42024.csv',\n",
       " 'Chapitre 2 (1).pdf',\n",
       " 'CHA_Agricole_IC_18.qmd',\n",
       " 'IMG_0487.HEIC',\n",
       " '42011553-20242025-L3EconomieetgestionCMIDataScienceforSocialSciences-Releve-14.pdf',\n",
       " 'Slides4_L3_Eco_Stat_Imprimable.pdf',\n",
       " 'ChatGPT_Desktop_public_latest.dmg',\n",
       " 'CHA_A_RR_18.qlr',\n",
       " 'Correction TP4',\n",
       " '-- SQLite_L2_tsalle.sql',\n",
       " 'Diplome langue française.jpeg',\n",
       " 'communes78.geojson',\n",
       " '24_CC3_test.pdf',\n",
       " 'cours4_Graphes_intro.pdf',\n",
       " '24_CC2_test.pdf',\n",
       " 'Changement_d_usage_du_sols___Immobilier.pdf',\n",
       " 'examen2013.pdf',\n",
       " '_80a72b1369dfd15319274bec0f5f5f92_Cancer-Diagnosis.xlsx',\n",
       " 'Cours_1_Schéma logique.pdf',\n",
       " 'Mau_don_trinh_bao_mat_Ho_chieu-TK05_2022.docx',\n",
       " 'Tran Gia Han DINH-CV.pdf',\n",
       " 'PLIE25_tableau-garanties.pdf',\n",
       " 'Capture d’écran\\xa0. 2025-04-13 à 11.15.40 2.jpeg',\n",
       " '-- SQLite_L3_tcours.sql',\n",
       " 'Cooper.csv',\n",
       " 'S5-MathsDynam-2023-CC2.pdf',\n",
       " 'CLC90_FR_RGF_SHP',\n",
       " 'WhatsApp Image 2025-01-09 at 20.53.50 (2).jpeg',\n",
       " 'sujet-type.pdf',\n",
       " '_80a72b1369dfd15319274bec0f5f5f92_Bombers-and-Seagulls.xlsx',\n",
       " 'Gestion des Exceptions en PL-SQL Oracle.html',\n",
       " \"Demandeurs d’emploi inscrits en fin de mois à France Travail par Tranche d'âge et par Métier - Franc.csv\",\n",
       " 'MANUAL DE IMAGEN - MARCA PERÚ 2019 (1)-1 (1) (1).pdf',\n",
       " 'exercices-chapitre2.pdf',\n",
       " 'examen2013correc.pdf',\n",
       " 'charte-consultation-copies.pdf',\n",
       " 'AdobeStock-317697675.jpeg',\n",
       " 'dares_defm_stock_france_cvs.csv',\n",
       " 'Correction_TD_3_RO___L3_Paris_Nanterre.pdf',\n",
       " '42011553-20242025-L3EconomieetgestionCMIDataScienceforSocialSciences-Releve-11.pdf',\n",
       " 'Revenus_csv',\n",
       " 'Methodo-Eco_données_num-M1IESD3S.pdf',\n",
       " 'Cours_6__POO__pgmFonctionnelle.pdf',\n",
       " 'BreePeru_BoldOblique.woff',\n",
       " 'DINH_justificatifs_presence_France.pdf',\n",
       " 'CamScanner 29-09-2025 16.05.pdf',\n",
       " 'TP5_Collections.pdf',\n",
       " 'Tran Gia Han DINH-CV alt Saint Gobain.pdf',\n",
       " 'Tran Gia Han DINH-9.pdf',\n",
       " 'Tran Gia Han DINH-stage.pdf',\n",
       " 'L2_tcours (2).xlsx',\n",
       " '440px-Marca_Perú.jpg',\n",
       " 'AnalyseFluctuations_Session1_L3.pdf',\n",
       " 'emp_2019_donnees_individuelles_anonymisees_novembre2024',\n",
       " 'MIGNON_Doc_TD_Econometrie1_L3_150ex.pdf',\n",
       " 'Demandeurs d’emploi inscrits en fin de mois à France Travail par Métier et par Niveau de formation --2.csv',\n",
       " 'study%20on%20the%20critical%20raw%20materials%20for%20the%20eu%202023-ET0723116ENN.pdf',\n",
       " 'logo 2.png',\n",
       " '019HexaSmal.csv',\n",
       " 'application_form_incoming_2023_2024.pdf',\n",
       " 'DINH Tran Gia Han-LM.pdf',\n",
       " 'Modele-de-contrat-engagement-16072024-1-2.pdf',\n",
       " '_c814ed51ebc5298e09152b67c3c09922_Excel-Essentials-Quiz_1_.xlsx',\n",
       " 'Tran Gia Han DINH-8.pdf',\n",
       " 'Mangas_les_csv',\n",
       " \"Offres d'emploi, Type d'offre _ Offres diffusées par Type de contrat et par Métier - France métropol.csv\",\n",
       " 'RStudio-2025.09.0-387.dmg',\n",
       " 'FIV_62721976_DL-025-ML_111610660.pdf',\n",
       " 'TD2 Python.docx',\n",
       " 'Tran Gia Han DINH-LM(Safran).pdf',\n",
       " 'Slides3_L3_Eco_Stat_Imprimable.pdf',\n",
       " 'CLC_PNE_RG',\n",
       " 'IMG_0486.HEIC',\n",
       " 'Taille_agglo_commune_csv',\n",
       " 'Souffrance-au-travail-Comment-y-faire-face.jpg',\n",
       " 'L3_eco_indus_TD_1_2024-2025.pdf',\n",
       " '42011553-20242025-L3EconomieetgestionCMIDataScienceforSocialSciences-Releve-10.pdf',\n",
       " 'RLV_CHQ_300040217200000697456_20250721.pdf',\n",
       " '(corrigé) Presentation analyse de donnees.pptx',\n",
       " 'mysql-workbench-community-8.0.36-macos-arm64.dmg',\n",
       " 'hộ chiếu anh long 2025.pdf',\n",
       " 'L3_eco_indus_TD_4.pdf',\n",
       " 'Gestion des Exceptions en PL-SQL Oracle - TD.html',\n",
       " 'LM_Gia Han_Dinh.pdf',\n",
       " 'L3_eco_indus_TD_6.pdf',\n",
       " 'explication_1_merged.pdf',\n",
       " 'Page1.jpeg',\n",
       " 'DINH_contrat_engagement_compressed.pdf',\n",
       " '42011553-20242025-L3EconomieetgestionCMIDataScienceforSocialSciences-Releve-12.pdf',\n",
       " 'mysql-workbench-community-8.0.43-macos-arm64.dmg',\n",
       " 'Avis_d_impot_2024_sur_les_revenus_2023-2.pdf',\n",
       " 'explication_1.pdf',\n",
       " '449668426_835400598252401_9089352216220812076_n.png',\n",
       " 'IMG_4751.JPG',\n",
       " 'lorem.txt',\n",
       " 'Intro_M1IESD3S_Ecodroit-datanum.pdf',\n",
       " 'communes-78-yvelines.geojson',\n",
       " 'abstract-geometric-wireframe-background',\n",
       " '-- SQLite_L3_enseignants.sql',\n",
       " 'Zoom.pkg',\n",
       " 'clc_etat_com_n2.csv',\n",
       " 'RLV_CHQ_300040217200000697456_20230821.pdf',\n",
       " 'CHA_Agricole_Urbain_18.qmd',\n",
       " 'examencl2017.pdf',\n",
       " '1_4_emp2019_equipement_menages_velos.xlsx',\n",
       " 'Théorie de la Croissance- Fiches de révions.pages',\n",
       " 'snapedit_1729770189894.jpeg',\n",
       " 'Validation-de-l-envoi-de-votre-dossier-de-naturalisation.pdf',\n",
       " 'Tran Gia Han DINH-CV (CNP Assurances).pdf',\n",
       " 'LM_Han_Dinh.pdf',\n",
       " '23426 DINH TRAN GIA HAN.pdf',\n",
       " '20241112DINH_Tran_Gia_Han_6_e274b742-6667-41b1-9a52-eaad171a9ef1.pdf',\n",
       " 'logo 1.png',\n",
       " 'grand-domaine.csv',\n",
       " 'DINH+Tran+Gia+Han.pdf',\n",
       " 'corrige-devoir1.pdf',\n",
       " 'clc_etat_com_n3.csv',\n",
       " '_d80570ae23b0cb9ff83abf26c0deb717_Solver_optimization_example_1_.xlsx',\n",
       " 'vins-de-Bordeaux.csv',\n",
       " 'WhatsApp Image 2025-05-02 at 17.43.21.jpeg',\n",
       " 'Tran Gia Han DINH-CV(Decathlon).pdf',\n",
       " 'machine-learning-TP1.pdf',\n",
       " 'DINH Tran Gia Han-CV.pdf',\n",
       " '[Rapport]Analyse des tensions du marché du travail et caractéristiques des métiers.pdf',\n",
       " 'WhatsApp Image 2025-01-09 at 20.53.50 (4).jpeg',\n",
       " 'TD_1_Sujet.pdf',\n",
       " '42011553-20242025-L3EconomieetgestionCMIDataScienceforSocialSciences-Releve-13.pdf',\n",
       " 'Tran Gia Han DINH_CV(VinciEnergies).pdf',\n",
       " 'dares_offres_collectees_satisfaites_france_travail_brutes_trim.csv',\n",
       " 'artifact',\n",
       " 'hộ khẩu anh long.pdf',\n",
       " 'TD2 (7).pdf',\n",
       " 'Tran Gia Han DINH-CV(slt).pdf',\n",
       " 'invoice-04436-36653239.pdf',\n",
       " 'frame.png',\n",
       " 'Le marché du travail par métier au 2e trimestre 2017 (données CVS).xls',\n",
       " 'attestation_droits_a_conduire_securisee_permis_de_conduire.pdf',\n",
       " 'RLV_LVA_300040217200030423009_20250721.pdf',\n",
       " 'L3_tcours (2).xlsx',\n",
       " 'identité.pdf',\n",
       " '.ipynb_checkpoints',\n",
       " 'dictionnaire_donnees_emp2019_public_V4.xlsx',\n",
       " 'IMG_3058.JPG',\n",
       " '42011553-20242025-L3EconomieetgestionCMIDataScienceforSocialSciences-Releve-9.pdf',\n",
       " 'maisons_cha_urbain_corrected.csv',\n",
       " '2_1_1_emp2019_mobilite_locale_semaine_caracteristiques_sociodemographiques_individus_janv_2022.xlsx',\n",
       " 'TP3.pdf',\n",
       " 'CamScanner 29-09-2025 00.04.pdf',\n",
       " 'M1_IES-D3S_PlanningAutoFormation_EconometrieDeBase.pdf',\n",
       " 'examen9mai.pdf',\n",
       " '2020-2021_CorrectionExos_L3Eco.pdf',\n",
       " 'TP3_SIG2.pdf',\n",
       " 'Tran Gia Han DINH-19.pdf',\n",
       " 'FileZilla.app',\n",
       " 'Notebook - test data - candidat externe - Nom Prénom.ipynb',\n",
       " 'Tran Gia Han DINH-25.pdf',\n",
       " 'appelation.csv',\n",
       " '-- SQLite_L1_tsalle-2.sql',\n",
       " 'Sujet_CC_2022_2023.pdf',\n",
       " 'Tran Gia Han DINH-24.pdf',\n",
       " 'Tran Gia Han DINH-18.pdf',\n",
       " 'S5-MathsDynam-2017-CC_chap_2-3.pdf',\n",
       " 'Tran Gia Han DINH-CV (ENDEL).pdf',\n",
       " 'MIGNON_L3_Cours_Econometrie1_150ex.pdf',\n",
       " 'DSE_2526-2025-62288320_V1_NOTIFICATION_CONDITIONNELLE_202507240909.pdf',\n",
       " 'BreePeru_Light.woff',\n",
       " 'CHA_A_RR.gpkg',\n",
       " 'CFA NUMIA - Master D3S 2025 - 2027.pdf',\n",
       " 'examen-20-mai-2014-questions-et-reponses.pdf',\n",
       " 'TP2.pdf',\n",
       " 'WhatsApp Image 2025-01-09 at 20.53.50.jpeg',\n",
       " '42011553-20242025-L3EconomieetgestionCMIDataScienceforSocialSciences-Releve-8.pdf',\n",
       " 'WhatsApp Image 2025-01-09 at 20.53.50 (3).jpeg',\n",
       " 'LM_Han_Dinh-2.pdf',\n",
       " 'recommandation Tran gia han.pdf',\n",
       " 'Unknown',\n",
       " 'corrige sujet 2023.pdf',\n",
       " '_c53b8cc584c5a8eeac7c7da3209600c9_Arithmetic_inExcel.xlsx',\n",
       " 'CC_L3_econometrie_2022.pdf',\n",
       " '-- SQLite_L1_tcours.sql',\n",
       " 'WhatsApp Image 2025-01-09 at 20.53.50 (1).jpeg',\n",
       " 'piscine-data.csv',\n",
       " '-- SQLite_L2_enseignants.sql',\n",
       " 'projet mpc',\n",
       " 'TD1 Python.docx',\n",
       " '167-668219_1.pdf',\n",
       " 'TD2_Sujet.pdf',\n",
       " 'Tables statistiques (1).pdf',\n",
       " '_a2e551bf17423fc4a74fcb8fdf45cb48_Sorting-Data.xlsx',\n",
       " 'Avis_d_impot_2024_sur_les_revenus_2023.pdf',\n",
       " 'Devoir_1_DINH_Zaman.pdf',\n",
       " 'Tran Gia Han DINH-CV-2.pdf',\n",
       " 'natural_earth_vector',\n",
       " 'TD5.pdf',\n",
       " 'ticket-PAYFIP0000000145603318.pdf',\n",
       " 'convention_43333_TRAN GIA HAN_DINH.pdf',\n",
       " 'examen 2024 - session1.pdf',\n",
       " 'mysql-8.4.0-macos14-arm64.dmg',\n",
       " 'Tran Gia Han DINH_LM(LOREAL).pdf',\n",
       " 'Menu Restaurant Simple Orange et Beige.pdf',\n",
       " 'How To Develop A HR Data Strategy Here Are 6 Simple Steps.png',\n",
       " 'TP1.pdf',\n",
       " 'Mini-projet_Huffman.pdf',\n",
       " 'L3Eco_EI_examen_mai2022_correction.pdf',\n",
       " 'Tran Gia Han DINH-CV(LVMH).pdf',\n",
       " 'qgis-macos-ltr.dmg',\n",
       " 'Chapitre 3.pdf',\n",
       " 'snapedit_1729770027608.jpeg',\n",
       " '_6f81298f196a69e651cd11d36ee96650_Binary-Performance-Metrics.xlsx',\n",
       " 'passeport_DINH_compressed.pdf',\n",
       " 'TD1_diviser_pour_regner-2.pdf',\n",
       " 'ADECal.ics',\n",
       " 'Projet_1_S_séries_chronologiques-2.pdf',\n",
       " 'digital-marketing-co-to.webp',\n",
       " 'codechapitre1.txt',\n",
       " 'TD5-2.ipynb',\n",
       " 'CHA_Agricole_RR_18.qmd',\n",
       " 'Cours4_Algorithmes_De_Tri-2.pdf',\n",
       " 'td1_corr.c',\n",
       " 'PDFServletAttestationDePaiementIJ.dopdf.pdf',\n",
       " '22631.2861.231204-0538.23H2_NI_RELEASE_SVC_REFRESH_CLIENTCONSUMER_RET_A64FRE_en-us.iso',\n",
       " 'TRAN GIA HAN DINH_CV alternance.pdf',\n",
       " 'TP_EMP.Rmd',\n",
       " '42011553-20222023-L1ÉconomieetGestionCMIDataScienceforSocialSciences-Releve.pdf',\n",
       " 'assurance.pdf',\n",
       " 'CONFIRMATION_DEMANDE_TITRE_SEJOUR_3503063600_20250728.pdf',\n",
       " '_18267f8cf82cde5920753ca6efa3589e_Forecasting-Soldier-Performance.xlsx',\n",
       " 'invite.ics',\n",
       " 'Tran Gia Han DINH-23.pdf',\n",
       " 'Cours2_Exceptions.pdf',\n",
       " 'ComplexesMatriciels-CercleTrigo-FacteursRacines.pdf',\n",
       " 'L3Eco_EI_examen_mai2023_correction.pdf',\n",
       " 'Tran Gia Han DINH-CV stage.pdf',\n",
       " 'Tran Gia Han DINH-22.pdf',\n",
       " 'Introduction.pdf',\n",
       " 'Activaciones de promoción comercial durante los Juegos Olímpicos - OCEX Paris 2024.pptx',\n",
       " 'CompanyApplicationSuggestion_Attachment_9369.docx',\n",
       " 'TP5.Rmd',\n",
       " 'TP4.pdf',\n",
       " 'SAP Technology Professionals Guide.pdf',\n",
       " 'Duke_University_logo.svg',\n",
       " 'Projet_Analyse_Électoral_et_Sociodémographique_du_Département_78.pdf',\n",
       " 'maisons_cha_urbain.csv',\n",
       " 'exos-Uni-Bi.pdf',\n",
       " 'cours_5_SQL_LMD_De_Base.pdf',\n",
       " 'Ch2_CEL.pdf',\n",
       " 'Projet econometrie2',\n",
       " \"Offres d'emploi, Type d'offre _ Offres diffusées par Métier - France métropolitaine - 4ème trimestre.csv\",\n",
       " 'images.png',\n",
       " 'TD4 (3).pdf',\n",
       " 'Attestation_placement_en_recherche_de_contrat_PARIS 10.pdf',\n",
       " '42011553-20232024-L2EconomieetGestionCMIDataScienceforSocialSciences-Releve.pdf',\n",
       " 'WhatsApp Image 2025-01-09 at 20.53.51.jpeg',\n",
       " 'cbbdf9b16cdb0ea0e57821a941a9483f1493a68fc6a2061dbf8f0836f163e6.xls',\n",
       " 'ExempleBonneCopie.pdf',\n",
       " 'econometrie-2-cours-complet-deconometrie-2-semestre-6-deconomie-a-luniversite-paris-nanterre-2.pdf',\n",
       " 'L3Eco_EI_examen_mai2024_correction.pdf',\n",
       " \"Validation de l'envoi de votre dossier de naturalisation.eml\",\n",
       " 'L3Eco_EI_CC2_2024-2025_correction.pdf',\n",
       " 'Capture d’écran\\xa0. 2025-04-13 à 11.15.40.jpeg',\n",
       " 'IMG_6045.JPG',\n",
       " 'Image-ExifTool-13.35.tar',\n",
       " 'Tran Gia Han DINH-20.pdf',\n",
       " 'Tran Gia Han DINH-21.pdf',\n",
       " 'Correction_TD_5_RO___L3_Paris_Nanterre.pdf',\n",
       " 'cv.pdf',\n",
       " 'Tran Gia Han DINH-CV (AXA Actuariat).pdf',\n",
       " 'TD2',\n",
       " 'TP7.pdf',\n",
       " 'Cours1-PL-SQL.html',\n",
       " 'Besoins en Main-d’Œuvre_Nombre de projets de recrutement en 2025 par Région.csv',\n",
       " 'TD4_graphes.pdf',\n",
       " 'AttestationHonneur-DINH Tran Gia Han.pdf',\n",
       " 'Notebook - test data - candidat externe - AMRAOUI Younes.ipynb',\n",
       " 'CV_Tran Gia Han_DINH_Nanterre_20250715.pdf',\n",
       " 'CV_Han_Dinh.pdf',\n",
       " 'AttestationHebergement-2.pdf',\n",
       " 'TD4_Sujet.pdf',\n",
       " 'Cours3_Heritage.pdf',\n",
       " 'Tran Gia Han DINH-CV (HRS).pdf']"
      ]
     },
     "execution_count": 146,
     "metadata": {},
     "output_type": "execute_result"
    }
   ],
   "source": [
    "# Chercher dans la répertoire travail en cours\n",
    "import os\n",
    "os.getcwd()\n",
    "#pour lister tous les fichiers dans la répetoire\n",
    "os.listdir()"
   ]
  },
  {
   "cell_type": "code",
   "execution_count": 149,
   "id": "93fcfdf1-c9c4-428f-8a5d-cfee318f6cc9",
   "metadata": {},
   "outputs": [],
   "source": [
    "# Intéroger une base de données SQL Server"
   ]
  },
  {
   "cell_type": "code",
   "execution_count": 153,
   "id": "acc1534a-272a-4828-af3f-d1940c467325",
   "metadata": {},
   "outputs": [],
   "source": [
    "import numpy as np\n",
    "import pandas as pd\n",
    "import pyodbc"
   ]
  },
  {
   "cell_type": "code",
   "execution_count": null,
   "id": "f85eac5b-fab2-4fa4-8679-5c98a47b3c58",
   "metadata": {},
   "outputs": [],
   "source": [
    "conn = pyodbc.connect (\n",
    "    \"Driver = {SQL Server Native Client};\"\n",
    "    \"Server = MGR2-BTH108W\\SQLSERVER;\"\n",
    "    \"Database = irissql;\"\n",
    "    \"Trusted_Connection = yes;\""
   ]
  },
  {
   "cell_type": "code",
   "execution_count": 157,
   "id": "73520f2b-3ff3-4440-b61b-d6363d3771d2",
   "metadata": {},
   "outputs": [],
   "source": [
    "# Avec SQLite\n",
    "import sqlite3"
   ]
  },
  {
   "cell_type": "code",
   "execution_count": 159,
   "id": "0fb8fb27-148c-487d-93d0-951adf60c75d",
   "metadata": {},
   "outputs": [
    {
     "ename": "TypeError",
     "evalue": "Connection() missing required argument 'database' (pos 1)",
     "output_type": "error",
     "traceback": [
      "\u001b[0;31m---------------------------------------------------------------------------\u001b[0m",
      "\u001b[0;31mTypeError\u001b[0m                                 Traceback (most recent call last)",
      "Cell \u001b[0;32mIn[159], line 1\u001b[0m\n\u001b[0;32m----> 1\u001b[0m conn \u001b[38;5;241m=\u001b[39m sqlite3\u001b[38;5;241m.\u001b[39mconnect ()\n",
      "\u001b[0;31mTypeError\u001b[0m: Connection() missing required argument 'database' (pos 1)"
     ]
    }
   ],
   "source": [
    "conn = sqlite3.connect(' ')"
   ]
  },
  {
   "cell_type": "code",
   "execution_count": null,
   "id": "39bd3ee2-0292-462e-b3d1-57411275aca4",
   "metadata": {},
   "outputs": [],
   "source": [
    "#Pour écrire des rêquete SQL\n",
    "requête = \"\"\" requête sql ;\"\"\"\n",
    "#Pour exécuter des requête \n",
    "pd.read_sql(requête, conn)"
   ]
  },
  {
   "cell_type": "code",
   "execution_count": 161,
   "id": "a6e8b670-326a-4cf0-a976-ce0ce787ebf1",
   "metadata": {},
   "outputs": [],
   "source": [
    "#Fusionner différentes sources de données\n",
    "import numpy as np\n",
    "import pandas as pd"
   ]
  },
  {
   "cell_type": "code",
   "execution_count": 165,
   "id": "27a6d215-d838-4728-a281-9ee5df2bab20",
   "metadata": {},
   "outputs": [],
   "source": [
    "df1 = pd.DataFrame({'Salarié': ['Eric', 'Hapsa', 'Elise', 'Xin'], 'groupe':['Technicien', 'Ingénieur', 'Ingénieur', 'Technicien']})"
   ]
  },
  {
   "cell_type": "code",
   "execution_count": 169,
   "id": "22e6b612-0612-4fc4-a86e-07af908ef43d",
   "metadata": {},
   "outputs": [],
   "source": [
    "df2 = pd.DataFrame({'Salarié': ['Hapsa', 'Elise', 'Eric', 'Xin'], 'date embauche':[2001, 1988, 2012, 2016]})"
   ]
  },
  {
   "cell_type": "code",
   "execution_count": 171,
   "id": "8915b71a-e873-40c8-9544-32302a719cfe",
   "metadata": {},
   "outputs": [],
   "source": [
    "df3 = pd.merge(df1, df2)"
   ]
  },
  {
   "cell_type": "code",
   "execution_count": 173,
   "id": "9f00dead-0132-4d49-8439-7e22938a2070",
   "metadata": {},
   "outputs": [
    {
     "data": {
      "text/html": [
       "<div>\n",
       "<style scoped>\n",
       "    .dataframe tbody tr th:only-of-type {\n",
       "        vertical-align: middle;\n",
       "    }\n",
       "\n",
       "    .dataframe tbody tr th {\n",
       "        vertical-align: top;\n",
       "    }\n",
       "\n",
       "    .dataframe thead th {\n",
       "        text-align: right;\n",
       "    }\n",
       "</style>\n",
       "<table border=\"1\" class=\"dataframe\">\n",
       "  <thead>\n",
       "    <tr style=\"text-align: right;\">\n",
       "      <th></th>\n",
       "      <th>Salarié</th>\n",
       "      <th>groupe</th>\n",
       "      <th>date embauche</th>\n",
       "    </tr>\n",
       "  </thead>\n",
       "  <tbody>\n",
       "    <tr>\n",
       "      <th>0</th>\n",
       "      <td>Eric</td>\n",
       "      <td>Technicien</td>\n",
       "      <td>2012</td>\n",
       "    </tr>\n",
       "    <tr>\n",
       "      <th>1</th>\n",
       "      <td>Hapsa</td>\n",
       "      <td>Ingénieur</td>\n",
       "      <td>2001</td>\n",
       "    </tr>\n",
       "    <tr>\n",
       "      <th>2</th>\n",
       "      <td>Elise</td>\n",
       "      <td>Ingénieur</td>\n",
       "      <td>1988</td>\n",
       "    </tr>\n",
       "    <tr>\n",
       "      <th>3</th>\n",
       "      <td>Xin</td>\n",
       "      <td>Technicien</td>\n",
       "      <td>2016</td>\n",
       "    </tr>\n",
       "  </tbody>\n",
       "</table>\n",
       "</div>"
      ],
      "text/plain": [
       "  Salarié      groupe  date embauche\n",
       "0    Eric  Technicien           2012\n",
       "1   Hapsa   Ingénieur           2001\n",
       "2   Elise   Ingénieur           1988\n",
       "3     Xin  Technicien           2016"
      ]
     },
     "execution_count": 173,
     "metadata": {},
     "output_type": "execute_result"
    }
   ],
   "source": [
    "df3"
   ]
  },
  {
   "cell_type": "code",
   "execution_count": 175,
   "id": "1b82ab39-ae9a-49b6-b33e-4e25eb93cc76",
   "metadata": {},
   "outputs": [],
   "source": [
    "df4 = pd.DataFrame({'groupe': ['Technicien', 'Ingénieur'], 'Superviseur': ['Carlos', 'Amine']})"
   ]
  },
  {
   "cell_type": "code",
   "execution_count": 177,
   "id": "4553d2b9-39b0-4162-9e9d-a40d7801756b",
   "metadata": {},
   "outputs": [
    {
     "name": "stdout",
     "output_type": "stream",
     "text": [
      "  Salarié      groupe  date embauche Superviseur\n",
      "0    Eric  Technicien           2012      Carlos\n",
      "1   Hapsa   Ingénieur           2001       Amine\n",
      "2   Elise   Ingénieur           1988       Amine\n",
      "3     Xin  Technicien           2016      Carlos\n"
     ]
    }
   ],
   "source": [
    "print(pd.merge(df3, df4))"
   ]
  },
  {
   "cell_type": "code",
   "execution_count": 181,
   "id": "dab68121-70a2-4d7f-85e5-b16fb0283f47",
   "metadata": {},
   "outputs": [],
   "source": [
    "df5 = pd.DataFrame({'Salarié': ['Eric', 'Hapsa', 'Elise', 'Xin'], 'Classement':[4, 1, 2, 3]})\n",
    "df6 = pd.DataFrame({'Salarié': ['Eric', 'Hapsa', 'Elise', 'Xin'], 'Classement':[4, 1, 3, 2]})                   "
   ]
  },
  {
   "cell_type": "code",
   "execution_count": 183,
   "id": "b6e02103-4306-452b-87b9-b8c100234928",
   "metadata": {},
   "outputs": [
    {
     "data": {
      "text/html": [
       "<div>\n",
       "<style scoped>\n",
       "    .dataframe tbody tr th:only-of-type {\n",
       "        vertical-align: middle;\n",
       "    }\n",
       "\n",
       "    .dataframe tbody tr th {\n",
       "        vertical-align: top;\n",
       "    }\n",
       "\n",
       "    .dataframe thead th {\n",
       "        text-align: right;\n",
       "    }\n",
       "</style>\n",
       "<table border=\"1\" class=\"dataframe\">\n",
       "  <thead>\n",
       "    <tr style=\"text-align: right;\">\n",
       "      <th></th>\n",
       "      <th>Salarié</th>\n",
       "      <th>Classement_x</th>\n",
       "      <th>Classement_y</th>\n",
       "    </tr>\n",
       "  </thead>\n",
       "  <tbody>\n",
       "    <tr>\n",
       "      <th>0</th>\n",
       "      <td>Eric</td>\n",
       "      <td>4</td>\n",
       "      <td>4</td>\n",
       "    </tr>\n",
       "    <tr>\n",
       "      <th>1</th>\n",
       "      <td>Hapsa</td>\n",
       "      <td>1</td>\n",
       "      <td>1</td>\n",
       "    </tr>\n",
       "    <tr>\n",
       "      <th>2</th>\n",
       "      <td>Elise</td>\n",
       "      <td>2</td>\n",
       "      <td>3</td>\n",
       "    </tr>\n",
       "    <tr>\n",
       "      <th>3</th>\n",
       "      <td>Xin</td>\n",
       "      <td>3</td>\n",
       "      <td>2</td>\n",
       "    </tr>\n",
       "  </tbody>\n",
       "</table>\n",
       "</div>"
      ],
      "text/plain": [
       "  Salarié  Classement_x  Classement_y\n",
       "0    Eric             4             4\n",
       "1   Hapsa             1             1\n",
       "2   Elise             2             3\n",
       "3     Xin             3             2"
      ]
     },
     "execution_count": 183,
     "metadata": {},
     "output_type": "execute_result"
    }
   ],
   "source": [
    "pd.merge(df5, df6, on = \"Salarié\")"
   ]
  },
  {
   "cell_type": "code",
   "execution_count": 189,
   "id": "574ea7c2-2be1-40fa-a672-352d83f42e3a",
   "metadata": {},
   "outputs": [
    {
     "data": {
      "text/html": [
       "<div>\n",
       "<style scoped>\n",
       "    .dataframe tbody tr th:only-of-type {\n",
       "        vertical-align: middle;\n",
       "    }\n",
       "\n",
       "    .dataframe tbody tr th {\n",
       "        vertical-align: top;\n",
       "    }\n",
       "\n",
       "    .dataframe thead th {\n",
       "        text-align: right;\n",
       "    }\n",
       "</style>\n",
       "<table border=\"1\" class=\"dataframe\">\n",
       "  <thead>\n",
       "    <tr style=\"text-align: right;\">\n",
       "      <th></th>\n",
       "      <th>Salarié</th>\n",
       "      <th>Classement Novembre</th>\n",
       "      <th>Classement Décembre</th>\n",
       "    </tr>\n",
       "  </thead>\n",
       "  <tbody>\n",
       "    <tr>\n",
       "      <th>0</th>\n",
       "      <td>Eric</td>\n",
       "      <td>4</td>\n",
       "      <td>4</td>\n",
       "    </tr>\n",
       "    <tr>\n",
       "      <th>1</th>\n",
       "      <td>Hapsa</td>\n",
       "      <td>1</td>\n",
       "      <td>1</td>\n",
       "    </tr>\n",
       "    <tr>\n",
       "      <th>2</th>\n",
       "      <td>Elise</td>\n",
       "      <td>2</td>\n",
       "      <td>3</td>\n",
       "    </tr>\n",
       "    <tr>\n",
       "      <th>3</th>\n",
       "      <td>Xin</td>\n",
       "      <td>3</td>\n",
       "      <td>2</td>\n",
       "    </tr>\n",
       "  </tbody>\n",
       "</table>\n",
       "</div>"
      ],
      "text/plain": [
       "  Salarié  Classement Novembre  Classement Décembre\n",
       "0    Eric                    4                    4\n",
       "1   Hapsa                    1                    1\n",
       "2   Elise                    2                    3\n",
       "3     Xin                    3                    2"
      ]
     },
     "execution_count": 189,
     "metadata": {},
     "output_type": "execute_result"
    }
   ],
   "source": [
    "#Pour préciser des suffixes\n",
    "pd.merge(df5, df6, on = \"Salarié\", suffixes = [\" Novembre\", \" Décembre\"])"
   ]
  },
  {
   "cell_type": "code",
   "execution_count": 193,
   "id": "2f7bbc6d-5a7f-4b09-871d-cddfdbe05370",
   "metadata": {},
   "outputs": [
    {
     "data": {
      "text/plain": [
       "nan"
      ]
     },
     "execution_count": 193,
     "metadata": {},
     "output_type": "execute_result"
    }
   ],
   "source": [
    "#Pour manipuler les valeurs manquantes\n",
    "ar = np.array([0, 1, np.nan, 3]) #nan est not a number, on utliser ça pour éviter un noti erreur\n",
    "ar.mean()"
   ]
  },
  {
   "cell_type": "code",
   "execution_count": 195,
   "id": "6d52109a-01c3-4125-ace7-731a6a3b84a7",
   "metadata": {},
   "outputs": [
    {
     "data": {
      "text/plain": [
       "1.3333333333333333"
      ]
     },
     "execution_count": 195,
     "metadata": {},
     "output_type": "execute_result"
    }
   ],
   "source": [
    "#calculer sans compter valeur nan\n",
    "np.nanmean(ar)"
   ]
  },
  {
   "cell_type": "code",
   "execution_count": 199,
   "id": "ae62f441-9b17-4f0e-86fb-92ce61b4725b",
   "metadata": {},
   "outputs": [],
   "source": [
    "ar2 = pd.Series([np.nan, 'Bonjour', 2, None])"
   ]
  },
  {
   "cell_type": "code",
   "execution_count": 201,
   "id": "f3b43ad1-6ba3-473a-9478-b74ae30679cc",
   "metadata": {},
   "outputs": [
    {
     "data": {
      "text/plain": [
       "0               NaN\n",
       "1    BonjourBonjour\n",
       "2                 4\n",
       "3               NaN\n",
       "dtype: object"
      ]
     },
     "execution_count": 201,
     "metadata": {},
     "output_type": "execute_result"
    }
   ],
   "source": [
    "ar2 + ar2"
   ]
  },
  {
   "cell_type": "code",
   "execution_count": 205,
   "id": "e89e517f-c37e-4423-b8f8-26f72528d897",
   "metadata": {},
   "outputs": [
    {
     "data": {
      "text/plain": [
       "1    Bonjour\n",
       "2          2\n",
       "dtype: object"
      ]
     },
     "execution_count": 205,
     "metadata": {},
     "output_type": "execute_result"
    }
   ],
   "source": [
    "ar2.dropna()"
   ]
  },
  {
   "cell_type": "code",
   "execution_count": 207,
   "id": "0d4e148d-0779-4f36-aae9-e16354c0ed7b",
   "metadata": {},
   "outputs": [],
   "source": [
    "# Maîtriser les statistiques descriptive avec NumPy"
   ]
  },
  {
   "cell_type": "code",
   "execution_count": 209,
   "id": "36e65a83-4267-46c8-a8df-93a1084970bf",
   "metadata": {},
   "outputs": [],
   "source": [
    "tab = np.random.random(2000000)"
   ]
  },
  {
   "cell_type": "code",
   "execution_count": 211,
   "id": "db23d886-406b-4caa-b2f9-4e9dbab5964e",
   "metadata": {},
   "outputs": [
    {
     "name": "stdout",
     "output_type": "stream",
     "text": [
      "70.5 ms ± 3.16 ms per loop (mean ± std. dev. of 7 runs, 10 loops each)\n"
     ]
    }
   ],
   "source": [
    "%timeit sum(tab)"
   ]
  },
  {
   "cell_type": "code",
   "execution_count": 213,
   "id": "b8478040-f15c-4803-bf8a-3bb163ddeb28",
   "metadata": {},
   "outputs": [
    {
     "name": "stdout",
     "output_type": "stream",
     "text": [
      "247 μs ± 242 ns per loop (mean ± std. dev. of 7 runs, 1,000 loops each)\n"
     ]
    }
   ],
   "source": [
    "%timeit np.sum(tab)"
   ]
  },
  {
   "cell_type": "code",
   "execution_count": 223,
   "id": "9f0062a5-be3b-4ebe-b5d3-21da891c846a",
   "metadata": {},
   "outputs": [],
   "source": [
    "#Trouver la valeur min, max\n",
    "x = np.arange(9)"
   ]
  },
  {
   "cell_type": "code",
   "execution_count": 229,
   "id": "27a34cc8-b3f4-4b22-88aa-1d51f21316d5",
   "metadata": {},
   "outputs": [
    {
     "data": {
      "text/plain": [
       "(0, 8)"
      ]
     },
     "execution_count": 229,
     "metadata": {},
     "output_type": "execute_result"
    }
   ],
   "source": [
    "np.min(x), np.max(x)"
   ]
  },
  {
   "cell_type": "code",
   "execution_count": 233,
   "id": "99fd4948-e99e-4095-8e56-b6406f3f08bc",
   "metadata": {},
   "outputs": [
    {
     "data": {
      "text/plain": [
       "array([[0, 1, 2],\n",
       "       [3, 4, 5],\n",
       "       [6, 7, 8]])"
      ]
     },
     "execution_count": 233,
     "metadata": {},
     "output_type": "execute_result"
    }
   ],
   "source": [
    "y = x.reshape(3,3)\n",
    "y"
   ]
  },
  {
   "cell_type": "code",
   "execution_count": 237,
   "id": "691ab028-8c86-4bf3-a325-6a916a74a344",
   "metadata": {},
   "outputs": [
    {
     "data": {
      "text/plain": [
       "36"
      ]
     },
     "execution_count": 237,
     "metadata": {},
     "output_type": "execute_result"
    }
   ],
   "source": [
    "y.sum()"
   ]
  },
  {
   "cell_type": "code",
   "execution_count": 245,
   "id": "9325bf63-76ad-4692-b945-1935c90d2788",
   "metadata": {},
   "outputs": [
    {
     "data": {
      "text/plain": [
       "array([ 3, 12, 21])"
      ]
     },
     "execution_count": 245,
     "metadata": {},
     "output_type": "execute_result"
    }
   ],
   "source": [
    "y.sum(axis = 0)\n",
    "y.sum(axis = 1)"
   ]
  },
  {
   "cell_type": "code",
   "execution_count": 251,
   "id": "638db54e-596a-4c22-a128-a714ecbbb2da",
   "metadata": {},
   "outputs": [
    {
     "data": {
      "text/plain": [
       "array([173, 185, 179, 181, 177, 172, 170, 178, 189, 186, 176, 176, 186,\n",
       "       179, 175, 177, 175, 172, 176, 183, 181, 173, 180, 181, 183, 189,\n",
       "       184, 170, 180, 181, 176, 181, 188, 173, 183, 187, 181, 186, 188,\n",
       "       185])"
      ]
     },
     "execution_count": 251,
     "metadata": {},
     "output_type": "execute_result"
    }
   ],
   "source": [
    "rand = np.random.RandomState(20)\n",
    "Taille = rand.randint(170,190, size = 40)\n",
    "Taille"
   ]
  },
  {
   "cell_type": "code",
   "execution_count": 255,
   "id": "f8a4f8d1-fbb3-4022-b934-30fc466ec184",
   "metadata": {},
   "outputs": [
    {
     "data": {
      "text/plain": [
       "(179.875, 5.3813915486609964)"
      ]
     },
     "execution_count": 255,
     "metadata": {},
     "output_type": "execute_result"
    }
   ],
   "source": [
    "np.mean(Taille), np.std(Taille) # Moyenne et Écart-type"
   ]
  },
  {
   "cell_type": "code",
   "execution_count": 259,
   "id": "22f999ec-bdce-4baf-b076-10c4c48957e6",
   "metadata": {},
   "outputs": [
    {
     "data": {
      "text/plain": [
       "(176.0, 180.5, 184.25)"
      ]
     },
     "execution_count": 259,
     "metadata": {},
     "output_type": "execute_result"
    }
   ],
   "source": [
    "np.percentile(Taille, 25), np.median(Taille), np.percentile(Taille, 75) #premier quartile, médiane, et troisième quartile"
   ]
  },
  {
   "cell_type": "code",
   "execution_count": 271,
   "id": "117d7e69-9c80-4f72-8af5-3f05f4f713d7",
   "metadata": {},
   "outputs": [],
   "source": [
    "%matplotlib inline\n",
    "import matplotlib.pyplot as plt"
   ]
  },
  {
   "cell_type": "code",
   "execution_count": 275,
   "id": "c48163c0-429c-4a55-8627-272b3a1a502f",
   "metadata": {},
   "outputs": [
    {
     "data": {
      "text/plain": [
       "Text(0.5, 0, 'Taille (cm)')"
      ]
     },
     "execution_count": 275,
     "metadata": {},
     "output_type": "execute_result"
    },
    {
     "data": {
      "image/png": "[encoded data removed]",
      "text/plain": [
       "<Figure size 640x480 with 1 Axes>"
      ]
     },
     "metadata": {},
     "output_type": "display_data"
    }
   ],
   "source": [
    "plt.hist(Taille)\n",
    "plt.title('Distribution Taille')\n",
    "plt.xlabel('Taille (cm)')"
   ]
  },
  {
   "cell_type": "code",
   "execution_count": 277,
   "id": "0d238af3-0a82-4b59-8944-88be0afb5ed7",
   "metadata": {},
   "outputs": [],
   "source": [
    "#Statistiques descriptives avec Pandas"
   ]
  },
  {
   "cell_type": "code",
   "execution_count": 279,
   "id": "9d9c116e-7bf2-4344-a8cd-cabd47807390",
   "metadata": {},
   "outputs": [],
   "source": [
    "r = np.arange(0, 2, 0.2)"
   ]
  },
  {
   "cell_type": "code",
   "execution_count": 281,
   "id": "9d95e05d-fcc5-49a2-9019-732ef30968c4",
   "metadata": {},
   "outputs": [],
   "source": [
    "ser = pd.Series(r)"
   ]
  },
  {
   "cell_type": "code",
   "execution_count": 283,
   "id": "d9c3a3c4-e60b-488e-b0a4-fdc56d37aa7e",
   "metadata": {},
   "outputs": [
    {
     "data": {
      "text/plain": [
       "9.000000000000002"
      ]
     },
     "execution_count": 283,
     "metadata": {},
     "output_type": "execute_result"
    }
   ],
   "source": [
    "ser.sum()"
   ]
  },
  {
   "cell_type": "code",
   "execution_count": 285,
   "id": "b0b07ebb-4170-4fd0-8583-68f239c023e8",
   "metadata": {},
   "outputs": [
    {
     "data": {
      "text/plain": [
       "0.9000000000000001"
      ]
     },
     "execution_count": 285,
     "metadata": {},
     "output_type": "execute_result"
    }
   ],
   "source": [
    "ser.mean()"
   ]
  },
  {
   "cell_type": "code",
   "execution_count": 289,
   "id": "0c8f4d31-4e8b-48cc-b8a7-8690832aabe8",
   "metadata": {},
   "outputs": [
    {
     "data": {
      "text/plain": [
       "count    10.00000\n",
       "mean      0.90000\n",
       "std       0.60553\n",
       "min       0.00000\n",
       "25%       0.45000\n",
       "50%       0.90000\n",
       "75%       1.35000\n",
       "max       1.80000\n",
       "dtype: float64"
      ]
     },
     "execution_count": 289,
     "metadata": {},
     "output_type": "execute_result"
    }
   ],
   "source": [
    "ser.describe()"
   ]
  },
  {
   "cell_type": "code",
   "execution_count": 295,
   "id": "c8e331fc-77fc-43b9-b88a-31ad4eb49ac4",
   "metadata": {},
   "outputs": [],
   "source": [
    "df = pd.DataFrame({'étudiant': ['A', 'B', 'C', 'A', 'B', 'C'], 'notes': np.random.randint(12, 18, 6)}, columns = ['étudiant', 'notes'])"
   ]
  },
  {
   "cell_type": "code",
   "execution_count": 297,
   "id": "6641f5fa-85ea-4d14-a03c-f40c24f219b6",
   "metadata": {},
   "outputs": [
    {
     "data": {
      "text/html": [
       "<div>\n",
       "<style scoped>\n",
       "    .dataframe tbody tr th:only-of-type {\n",
       "        vertical-align: middle;\n",
       "    }\n",
       "\n",
       "    .dataframe tbody tr th {\n",
       "        vertical-align: top;\n",
       "    }\n",
       "\n",
       "    .dataframe thead th {\n",
       "        text-align: right;\n",
       "    }\n",
       "</style>\n",
       "<table border=\"1\" class=\"dataframe\">\n",
       "  <thead>\n",
       "    <tr style=\"text-align: right;\">\n",
       "      <th></th>\n",
       "      <th>étudiant</th>\n",
       "      <th>notes</th>\n",
       "    </tr>\n",
       "  </thead>\n",
       "  <tbody>\n",
       "    <tr>\n",
       "      <th>0</th>\n",
       "      <td>A</td>\n",
       "      <td>16</td>\n",
       "    </tr>\n",
       "    <tr>\n",
       "      <th>1</th>\n",
       "      <td>B</td>\n",
       "      <td>13</td>\n",
       "    </tr>\n",
       "    <tr>\n",
       "      <th>2</th>\n",
       "      <td>C</td>\n",
       "      <td>14</td>\n",
       "    </tr>\n",
       "    <tr>\n",
       "      <th>3</th>\n",
       "      <td>A</td>\n",
       "      <td>12</td>\n",
       "    </tr>\n",
       "    <tr>\n",
       "      <th>4</th>\n",
       "      <td>B</td>\n",
       "      <td>16</td>\n",
       "    </tr>\n",
       "    <tr>\n",
       "      <th>5</th>\n",
       "      <td>C</td>\n",
       "      <td>12</td>\n",
       "    </tr>\n",
       "  </tbody>\n",
       "</table>\n",
       "</div>"
      ],
      "text/plain": [
       "  étudiant  notes\n",
       "0        A     16\n",
       "1        B     13\n",
       "2        C     14\n",
       "3        A     12\n",
       "4        B     16\n",
       "5        C     12"
      ]
     },
     "execution_count": 297,
     "metadata": {},
     "output_type": "execute_result"
    }
   ],
   "source": [
    "df"
   ]
  },
  {
   "cell_type": "code",
   "execution_count": 301,
   "id": "cab7951a-8ae4-4625-b778-ee5107d37ae6",
   "metadata": {},
   "outputs": [
    {
     "data": {
      "text/html": [
       "<div>\n",
       "<style scoped>\n",
       "    .dataframe tbody tr th:only-of-type {\n",
       "        vertical-align: middle;\n",
       "    }\n",
       "\n",
       "    .dataframe tbody tr th {\n",
       "        vertical-align: top;\n",
       "    }\n",
       "\n",
       "    .dataframe thead th {\n",
       "        text-align: right;\n",
       "    }\n",
       "</style>\n",
       "<table border=\"1\" class=\"dataframe\">\n",
       "  <thead>\n",
       "    <tr style=\"text-align: right;\">\n",
       "      <th></th>\n",
       "      <th>notes</th>\n",
       "    </tr>\n",
       "    <tr>\n",
       "      <th>étudiant</th>\n",
       "      <th></th>\n",
       "    </tr>\n",
       "  </thead>\n",
       "  <tbody>\n",
       "    <tr>\n",
       "      <th>A</th>\n",
       "      <td>28</td>\n",
       "    </tr>\n",
       "    <tr>\n",
       "      <th>B</th>\n",
       "      <td>29</td>\n",
       "    </tr>\n",
       "    <tr>\n",
       "      <th>C</th>\n",
       "      <td>26</td>\n",
       "    </tr>\n",
       "  </tbody>\n",
       "</table>\n",
       "</div>"
      ],
      "text/plain": [
       "          notes\n",
       "étudiant       \n",
       "A            28\n",
       "B            29\n",
       "C            26"
      ]
     },
     "execution_count": 301,
     "metadata": {},
     "output_type": "execute_result"
    }
   ],
   "source": [
    "df.groupby('étudiant').sum()"
   ]
  },
  {
   "cell_type": "code",
   "execution_count": 303,
   "id": "35197eec-279f-4c01-9430-01d82299906c",
   "metadata": {},
   "outputs": [
    {
     "data": {
      "text/html": [
       "<div>\n",
       "<style scoped>\n",
       "    .dataframe tbody tr th:only-of-type {\n",
       "        vertical-align: middle;\n",
       "    }\n",
       "\n",
       "    .dataframe tbody tr th {\n",
       "        vertical-align: top;\n",
       "    }\n",
       "\n",
       "    .dataframe thead tr th {\n",
       "        text-align: left;\n",
       "    }\n",
       "\n",
       "    .dataframe thead tr:last-of-type th {\n",
       "        text-align: right;\n",
       "    }\n",
       "</style>\n",
       "<table border=\"1\" class=\"dataframe\">\n",
       "  <thead>\n",
       "    <tr>\n",
       "      <th></th>\n",
       "      <th colspan=\"8\" halign=\"left\">notes</th>\n",
       "    </tr>\n",
       "    <tr>\n",
       "      <th></th>\n",
       "      <th>count</th>\n",
       "      <th>mean</th>\n",
       "      <th>std</th>\n",
       "      <th>min</th>\n",
       "      <th>25%</th>\n",
       "      <th>50%</th>\n",
       "      <th>75%</th>\n",
       "      <th>max</th>\n",
       "    </tr>\n",
       "    <tr>\n",
       "      <th>étudiant</th>\n",
       "      <th></th>\n",
       "      <th></th>\n",
       "      <th></th>\n",
       "      <th></th>\n",
       "      <th></th>\n",
       "      <th></th>\n",
       "      <th></th>\n",
       "      <th></th>\n",
       "    </tr>\n",
       "  </thead>\n",
       "  <tbody>\n",
       "    <tr>\n",
       "      <th>A</th>\n",
       "      <td>2.0</td>\n",
       "      <td>14.0</td>\n",
       "      <td>2.828427</td>\n",
       "      <td>12.0</td>\n",
       "      <td>13.00</td>\n",
       "      <td>14.0</td>\n",
       "      <td>15.00</td>\n",
       "      <td>16.0</td>\n",
       "    </tr>\n",
       "    <tr>\n",
       "      <th>B</th>\n",
       "      <td>2.0</td>\n",
       "      <td>14.5</td>\n",
       "      <td>2.121320</td>\n",
       "      <td>13.0</td>\n",
       "      <td>13.75</td>\n",
       "      <td>14.5</td>\n",
       "      <td>15.25</td>\n",
       "      <td>16.0</td>\n",
       "    </tr>\n",
       "    <tr>\n",
       "      <th>C</th>\n",
       "      <td>2.0</td>\n",
       "      <td>13.0</td>\n",
       "      <td>1.414214</td>\n",
       "      <td>12.0</td>\n",
       "      <td>12.50</td>\n",
       "      <td>13.0</td>\n",
       "      <td>13.50</td>\n",
       "      <td>14.0</td>\n",
       "    </tr>\n",
       "  </tbody>\n",
       "</table>\n",
       "</div>"
      ],
      "text/plain": [
       "         notes                                                \n",
       "         count  mean       std   min    25%   50%    75%   max\n",
       "étudiant                                                      \n",
       "A          2.0  14.0  2.828427  12.0  13.00  14.0  15.00  16.0\n",
       "B          2.0  14.5  2.121320  13.0  13.75  14.5  15.25  16.0\n",
       "C          2.0  13.0  1.414214  12.0  12.50  13.0  13.50  14.0"
      ]
     },
     "execution_count": 303,
     "metadata": {},
     "output_type": "execute_result"
    }
   ],
   "source": [
    "df.groupby('étudiant').describe()"
   ]
  },
  {
   "cell_type": "code",
   "execution_count": 305,
   "id": "349340da-3a8b-4cd4-808a-c76236de0d07",
   "metadata": {},
   "outputs": [],
   "source": [
    "def fonction_filtre(v): return v['notes'].median() > 14"
   ]
  },
  {
   "cell_type": "code",
   "execution_count": 307,
   "id": "5be345ee-6047-48d2-9da9-fae17aa6b975",
   "metadata": {},
   "outputs": [
    {
     "data": {
      "text/html": [
       "<div>\n",
       "<style scoped>\n",
       "    .dataframe tbody tr th:only-of-type {\n",
       "        vertical-align: middle;\n",
       "    }\n",
       "\n",
       "    .dataframe tbody tr th {\n",
       "        vertical-align: top;\n",
       "    }\n",
       "\n",
       "    .dataframe thead th {\n",
       "        text-align: right;\n",
       "    }\n",
       "</style>\n",
       "<table border=\"1\" class=\"dataframe\">\n",
       "  <thead>\n",
       "    <tr style=\"text-align: right;\">\n",
       "      <th></th>\n",
       "      <th>étudiant</th>\n",
       "      <th>notes</th>\n",
       "    </tr>\n",
       "  </thead>\n",
       "  <tbody>\n",
       "    <tr>\n",
       "      <th>1</th>\n",
       "      <td>B</td>\n",
       "      <td>13</td>\n",
       "    </tr>\n",
       "    <tr>\n",
       "      <th>4</th>\n",
       "      <td>B</td>\n",
       "      <td>16</td>\n",
       "    </tr>\n",
       "  </tbody>\n",
       "</table>\n",
       "</div>"
      ],
      "text/plain": [
       "  étudiant  notes\n",
       "1        B     13\n",
       "4        B     16"
      ]
     },
     "execution_count": 307,
     "metadata": {},
     "output_type": "execute_result"
    }
   ],
   "source": [
    "df.groupby('étudiant').filter(fonction_filtre)"
   ]
  },
  {
   "cell_type": "code",
   "execution_count": 309,
   "id": "bfb23869-4ebe-443f-9f0b-f3f302799822",
   "metadata": {},
   "outputs": [],
   "source": [
    "############ VISUALISATION DES DONNÉES ################"
   ]
  },
  {
   "cell_type": "code",
   "execution_count": 311,
   "id": "0bdf5c86-faaf-404b-9c7f-71156223d9b1",
   "metadata": {},
   "outputs": [],
   "source": [
    "import matplotlib.pyplot as plt"
   ]
  },
  {
   "cell_type": "code",
   "execution_count": 317,
   "id": "afce4f60-0492-4750-a7e1-36f16b52ff2f",
   "metadata": {},
   "outputs": [
    {
     "data": {
      "text/plain": [
       "[<matplotlib.lines.Line2D at 0x14a6dea80>]"
      ]
     },
     "execution_count": 317,
     "metadata": {},
     "output_type": "execute_result"
    },
    {
     "data": {
      "image/png": "[encoded data removed]",
      "text/plain": [
       "<Figure size 640x480 with 1 Axes>"
      ]
     },
     "metadata": {},
     "output_type": "display_data"
    }
   ],
   "source": [
    "y = range (1,10)\n",
    "y = [4, 3, 2, 1, 0 , 1, 2, 3, 4]\n",
    "plt.plot(x, y) #afficher le résultat"
   ]
  },
  {
   "cell_type": "code",
   "execution_count": 321,
   "id": "9f454750-0468-49d4-8ebd-bff2cc40bbac",
   "metadata": {},
   "outputs": [
    {
     "data": {
      "text/plain": [
       "<BarContainer object of 9 artists>"
      ]
     },
     "execution_count": 321,
     "metadata": {},
     "output_type": "execute_result"
    },
    {
     "data": {
      "image/png": "[encoded data removed]",
      "text/plain": [
       "<Figure size 640x480 with 1 Axes>"
      ]
     },
     "metadata": {},
     "output_type": "display_data"
    }
   ],
   "source": [
    "#graphique Bar\n",
    "plt.bar(x,y)"
   ]
  },
  {
   "cell_type": "code",
   "execution_count": 323,
   "id": "950aeca6-d577-4e07-a239-7c1f5fd0154e",
   "metadata": {},
   "outputs": [
    {
     "data": {
      "text/plain": [
       "<BarContainer object of 9 artists>"
      ]
     },
     "execution_count": 323,
     "metadata": {},
     "output_type": "execute_result"
    },
    {
     "data": {
      "image/png": "[encoded data removed]",
      "text/plain": [
       "<Figure size 640x480 with 1 Axes>"
      ]
     },
     "metadata": {},
     "output_type": "display_data"
    }
   ],
   "source": [
    "#Bar horizontale\n",
    "plt.barh(x, y)"
   ]
  },
  {
   "cell_type": "code",
   "execution_count": 327,
   "id": "01870ba6-502e-4e9c-9353-03610ae6f47e",
   "metadata": {},
   "outputs": [
    {
     "data": {
      "text/plain": [
       "([<matplotlib.patches.Wedge at 0x14a256480>,\n",
       "  <matplotlib.patches.Wedge at 0x14a5e7050>,\n",
       "  <matplotlib.patches.Wedge at 0x14a8a1c10>,\n",
       "  <matplotlib.patches.Wedge at 0x14a8a0ec0>,\n",
       "  <matplotlib.patches.Wedge at 0x14a8a2270>],\n",
       " [Text(6.735557395310444e-17, 1.1, ''),\n",
       "  Text(-1.0864571742518743, -0.17207791408729045, ''),\n",
       "  Text(-0.7778174410990705, -0.7778174775113338, ''),\n",
       "  Text(5.149471664411206e-08, -1.0999999999999988, ''),\n",
       "  Text(0.8899187331606258, -0.6465637233635887, '')])"
      ]
     },
     "execution_count": 327,
     "metadata": {},
     "output_type": "execute_result"
    },
    {
     "data": {
      "image/png": "[encoded data removed]",
      "text/plain": [
       "<Figure size 640x480 with 1 Axes>"
      ]
     },
     "metadata": {},
     "output_type": "display_data"
    }
   ],
   "source": [
    "p = [10, 1, 3, 2, 4]\n",
    "plt.pie(p)"
   ]
  },
  {
   "cell_type": "code",
   "execution_count": 333,
   "id": "6a25a8c9-e300-4338-9337-1dd29dc920e1",
   "metadata": {},
   "outputs": [
    {
     "data": {
      "text/plain": [
       "([<matplotlib.patches.Wedge at 0x148000770>,\n",
       "  <matplotlib.patches.Wedge at 0x14a653dd0>,\n",
       "  <matplotlib.patches.Wedge at 0x148001610>,\n",
       "  <matplotlib.patches.Wedge at 0x148001010>,\n",
       "  <matplotlib.patches.Wedge at 0x148002900>],\n",
       " [Text(6.735557395310444e-17, 1.1, 'Produit 1'),\n",
       "  Text(-1.0864571742518743, -0.17207791408729045, 'Produit 2'),\n",
       "  Text(-0.7778174410990705, -0.7778174775113338, 'Produit 3'),\n",
       "  Text(5.149471664411206e-08, -1.0999999999999988, 'Produit 4'),\n",
       "  Text(0.8899187331606258, -0.6465637233635887, 'Produit 5')],\n",
       " [Text(3.6739403974420595e-17, 0.6, '50.0%'),\n",
       "  Text(-0.5926130041373858, -0.09386068041124933, '5.0%'),\n",
       "  Text(-0.4242640587813111, -0.4242640786425457, '15.0%'),\n",
       "  Text(2.8088027260424755e-08, -0.5999999999999993, '10.0%'),\n",
       "  Text(0.485410218087614, -0.35267112183468474, '20.0%')])"
      ]
     },
     "execution_count": 333,
     "metadata": {},
     "output_type": "execute_result"
    },
    {
     "data": {
      "image/png": "[encoded data removed]",
      "text/plain": [
       "<Figure size 640x480 with 1 Axes>"
      ]
     },
     "metadata": {},
     "output_type": "display_data"
    }
   ],
   "source": [
    "Etiquette = 'Produit 1', 'Produit 2', 'Produit 3', 'Produit 4', 'Produit 5'\n",
    "plt.pie(p, labels = Etiquette, autopct= '%1.1f%%')"
   ]
  },
  {
   "cell_type": "code",
   "execution_count": 335,
   "id": "80e7323e-b1ab-4ab4-be94-ef200828b6f9",
   "metadata": {},
   "outputs": [
    {
     "data": {
      "text/plain": [
       "<Figure size 640x480 with 0 Axes>"
      ]
     },
     "metadata": {},
     "output_type": "display_data"
    }
   ],
   "source": [
    "#Pour enregistrer la graphique\n",
    "plt.savefig('Camembert.jpeg')"
   ]
  },
  {
   "cell_type": "code",
   "execution_count": 381,
   "id": "21ef6851-c325-4af6-a20c-ed05f186b8f2",
   "metadata": {},
   "outputs": [],
   "source": [
    "%matplotlib inline\n",
    "import matplotlib.pyplot as plt\n",
    "plt.style.use('seaborn-v0_8-white')"
   ]
  },
  {
   "cell_type": "code",
   "execution_count": 385,
   "id": "caafed1d-6055-4093-9629-6f11c3fd6c69",
   "metadata": {},
   "outputs": [
    {
     "data": {
      "image/png": "[encoded data removed]",
      "text/plain": [
       "<Figure size 640x480 with 2 Axes>"
      ]
     },
     "metadata": {},
     "output_type": "display_data"
    }
   ],
   "source": [
    "ax1= plt.axes()\n",
    "ax2 = plt.axes([0.2, 0.64, 0.2, 0.2])"
   ]
  },
  {
   "cell_type": "code",
   "execution_count": 393,
   "id": "c5c86dad-28a2-4146-b114-52d1123ec3a1",
   "metadata": {},
   "outputs": [
    {
     "data": {
      "image/png": "[encoded data removed]",
      "text/plain": [
       "<Figure size 640x480 with 4 Axes>"
      ]
     },
     "metadata": {},
     "output_type": "display_data"
    }
   ],
   "source": [
    "for i in range (1, 5):\n",
    "    plt.subplot(2,2, i)\n",
    "    plt.text(0.5,0.5, str((\"Client\", i)), fontsize = 18, ha = 'center')"
   ]
  },
  {
   "cell_type": "code",
   "execution_count": 351,
   "id": "ad010109-8e86-4f68-836b-a26cbbc1b412",
   "metadata": {},
   "outputs": [],
   "source": [
    "# VISUALISER AVEC SEABORN (permet de produire des graphiques de meilleur qualité y compris à partir data frame pandas)\n",
    "import matplotlib.pyplot as plt\n",
    "plt.style.use('classic')\n",
    "%matplotlib inline\n",
    "import numpy as np\n",
    "import pandas as pd"
   ]
  },
  {
   "cell_type": "code",
   "execution_count": 353,
   "id": "11dc5931-ed83-4fc3-a948-522cb219f7dd",
   "metadata": {},
   "outputs": [],
   "source": [
    "x = np.linspace(0, 10, 300)\n",
    "rng = np.random.RandomState(0)\n",
    "y = np.cumsum(rng.randn(300,3), 0)"
   ]
  },
  {
   "cell_type": "code",
   "execution_count": 355,
   "id": "285a596b-0ad1-4d2a-b2cf-b69d8bd8e748",
   "metadata": {},
   "outputs": [
    {
     "data": {
      "text/plain": [
       "<matplotlib.legend.Legend at 0x14f0d7fe0>"
      ]
     },
     "execution_count": 355,
     "metadata": {},
     "output_type": "execute_result"
    },
    {
     "data": {
      "image/png": "[encoded data removed]",
      "text/plain": [
       "<Figure size 640x480 with 1 Axes>"
      ]
     },
     "metadata": {},
     "output_type": "display_data"
    }
   ],
   "source": [
    "plt.plot(x,y)\n",
    "plt.legend('ABC', ncol = 2, loc = 'upper right')"
   ]
  },
  {
   "cell_type": "code",
   "execution_count": 357,
   "id": "0618ee52-de4c-4e98-b711-9a135650527f",
   "metadata": {},
   "outputs": [],
   "source": [
    "import seaborn as sns\n",
    "sns.set()"
   ]
  },
  {
   "cell_type": "code",
   "execution_count": 359,
   "id": "3a062b36-e09e-4dfb-a80d-71771d47c82c",
   "metadata": {},
   "outputs": [
    {
     "data": {
      "text/plain": [
       "<matplotlib.legend.Legend at 0x14f0a1a00>"
      ]
     },
     "execution_count": 359,
     "metadata": {},
     "output_type": "execute_result"
    },
    {
     "data": {
      "image/png": "[encoded data removed]",
      "text/plain": [
       "<Figure size 640x480 with 1 Axes>"
      ]
     },
     "metadata": {},
     "output_type": "display_data"
    }
   ],
   "source": [
    "plt.plot(x,y)\n",
    "plt.legend('ABC', ncol = 2, loc = 'upper right')"
   ]
  },
  {
   "cell_type": "code",
   "execution_count": 369,
   "id": "f0258f44-833a-4de7-b524-989bf04625a0",
   "metadata": {},
   "outputs": [],
   "source": [
    "iris = sns.load_dataset(\"iris\")"
   ]
  },
  {
   "cell_type": "code",
   "execution_count": 363,
   "id": "ec578f23-b790-4d59-89a2-ac9a6768c0c5",
   "metadata": {},
   "outputs": [
    {
     "data": {
      "text/html": [
       "<div>\n",
       "<style scoped>\n",
       "    .dataframe tbody tr th:only-of-type {\n",
       "        vertical-align: middle;\n",
       "    }\n",
       "\n",
       "    .dataframe tbody tr th {\n",
       "        vertical-align: top;\n",
       "    }\n",
       "\n",
       "    .dataframe thead th {\n",
       "        text-align: right;\n",
       "    }\n",
       "</style>\n",
       "<table border=\"1\" class=\"dataframe\">\n",
       "  <thead>\n",
       "    <tr style=\"text-align: right;\">\n",
       "      <th></th>\n",
       "      <th>sepal_length</th>\n",
       "      <th>sepal_width</th>\n",
       "      <th>petal_length</th>\n",
       "      <th>petal_width</th>\n",
       "      <th>species</th>\n",
       "    </tr>\n",
       "  </thead>\n",
       "  <tbody>\n",
       "    <tr>\n",
       "      <th>0</th>\n",
       "      <td>5.1</td>\n",
       "      <td>3.5</td>\n",
       "      <td>1.4</td>\n",
       "      <td>0.2</td>\n",
       "      <td>setosa</td>\n",
       "    </tr>\n",
       "    <tr>\n",
       "      <th>1</th>\n",
       "      <td>4.9</td>\n",
       "      <td>3.0</td>\n",
       "      <td>1.4</td>\n",
       "      <td>0.2</td>\n",
       "      <td>setosa</td>\n",
       "    </tr>\n",
       "    <tr>\n",
       "      <th>2</th>\n",
       "      <td>4.7</td>\n",
       "      <td>3.2</td>\n",
       "      <td>1.3</td>\n",
       "      <td>0.2</td>\n",
       "      <td>setosa</td>\n",
       "    </tr>\n",
       "    <tr>\n",
       "      <th>3</th>\n",
       "      <td>4.6</td>\n",
       "      <td>3.1</td>\n",
       "      <td>1.5</td>\n",
       "      <td>0.2</td>\n",
       "      <td>setosa</td>\n",
       "    </tr>\n",
       "    <tr>\n",
       "      <th>4</th>\n",
       "      <td>5.0</td>\n",
       "      <td>3.6</td>\n",
       "      <td>1.4</td>\n",
       "      <td>0.2</td>\n",
       "      <td>setosa</td>\n",
       "    </tr>\n",
       "  </tbody>\n",
       "</table>\n",
       "</div>"
      ],
      "text/plain": [
       "   sepal_length  sepal_width  petal_length  petal_width species\n",
       "0           5.1          3.5           1.4          0.2  setosa\n",
       "1           4.9          3.0           1.4          0.2  setosa\n",
       "2           4.7          3.2           1.3          0.2  setosa\n",
       "3           4.6          3.1           1.5          0.2  setosa\n",
       "4           5.0          3.6           1.4          0.2  setosa"
      ]
     },
     "execution_count": 363,
     "metadata": {},
     "output_type": "execute_result"
    }
   ],
   "source": [
    "iris.head()"
   ]
  },
  {
   "cell_type": "code",
   "execution_count": 375,
   "id": "5bd9080a-be01-4ffe-acd0-ba36ec452522",
   "metadata": {},
   "outputs": [
    {
     "name": "stderr",
     "output_type": "stream",
     "text": [
      "/opt/anaconda3/lib/python3.12/site-packages/seaborn/axisgrid.py:2100: UserWarning: The `size` parameter has been renamed to `height`; please update your code.\n",
      "  warnings.warn(msg, UserWarning)\n"
     ]
    },
    {
     "data": {
      "text/plain": [
       "<seaborn.axisgrid.PairGrid at 0x304defb60>"
      ]
     },
     "execution_count": 375,
     "metadata": {},
     "output_type": "execute_result"
    },
    {
     "data": {
      "image/png": "[encoded data removed]",
      "text/plain": [
       "<Figure size 896.125x800 with 20 Axes>"
      ]
     },
     "metadata": {},
     "output_type": "display_data"
    }
   ],
   "source": [
    "sns.pairplot(iris, hue= 'species', size = 2.5)"
   ]
  },
  {
   "cell_type": "code",
   "execution_count": 401,
   "id": "efd96f52-7344-4267-988f-0d52b63128a6",
   "metadata": {},
   "outputs": [],
   "source": [
    "################### ALGORITHME MACHINE LEARNING ################"
   ]
  },
  {
   "cell_type": "code",
   "execution_count": 403,
   "id": "4216a9c5-2ba4-48fd-84e9-cc660bcb8ced",
   "metadata": {},
   "outputs": [],
   "source": [
    "#Régression linéaire"
   ]
  },
  {
   "cell_type": "code",
   "execution_count": 405,
   "id": "8f111e04-178b-4bf9-bc6f-afc046e842a4",
   "metadata": {},
   "outputs": [],
   "source": [
    "import numpy as np\n",
    "from sklearn.linear_model import LinearRegression"
   ]
  },
  {
   "cell_type": "code",
   "execution_count": 407,
   "id": "e1d09443-e2d2-4f41-90e0-230f11f6d847",
   "metadata": {},
   "outputs": [
    {
     "data": {
      "text/plain": [
       "array([ 7, 17, 27, 37, 47, 57])"
      ]
     },
     "execution_count": 407,
     "metadata": {},
     "output_type": "execute_result"
    }
   ],
   "source": [
    "x = np.arange(7, 58, 10)\n",
    "x"
   ]
  },
  {
   "cell_type": "code",
   "execution_count": 409,
   "id": "6e34b8c4-ccb8-4ba8-8554-6bdd05bf9bb7",
   "metadata": {},
   "outputs": [],
   "source": [
    "y = np.array([7, 18, 16, 24, 22, 30])"
   ]
  },
  {
   "cell_type": "code",
   "execution_count": 411,
   "id": "fa04f34e-d2ac-46c2-a78f-9b0b76838176",
   "metadata": {},
   "outputs": [],
   "source": [
    "x = x.reshape((-1,1))"
   ]
  },
  {
   "cell_type": "code",
   "execution_count": 415,
   "id": "18904b6a-d988-4330-b859-271d426d9884",
   "metadata": {},
   "outputs": [
    {
     "data": {
      "text/plain": [
       "<matplotlib.collections.PathCollection at 0x3062fd790>"
      ]
     },
     "execution_count": 415,
     "metadata": {},
     "output_type": "execute_result"
    },
    {
     "data": {
      "image/png": "[encoded data removed]",
      "text/plain": [
       "<Figure size 640x480 with 1 Axes>"
      ]
     },
     "metadata": {},
     "output_type": "display_data"
    }
   ],
   "source": [
    "plt.scatter(x, y) #nuages de point"
   ]
  },
  {
   "cell_type": "code",
   "execution_count": 417,
   "id": "83cdba0c-8371-437c-9a0c-31d510354bb2",
   "metadata": {},
   "outputs": [
    {
     "data": {
      "text/html": [
       "<style>#sk-container-id-1 {\n",
       "  /* Definition of color scheme common for light and dark mode */\n",
       "  --sklearn-color-text: black;\n",
       "  --sklearn-color-line: gray;\n",
       "  /* Definition of color scheme for unfitted estimators */\n",
       "  --sklearn-color-unfitted-level-0: #fff5e6;\n",
       "  --sklearn-color-unfitted-level-1: #f6e4d2;\n",
       "  --sklearn-color-unfitted-level-2: #ffe0b3;\n",
       "  --sklearn-color-unfitted-level-3: chocolate;\n",
       "  /* Definition of color scheme for fitted estimators */\n",
       "  --sklearn-color-fitted-level-0: #f0f8ff;\n",
       "  --sklearn-color-fitted-level-1: #d4ebff;\n",
       "  --sklearn-color-fitted-level-2: #b3dbfd;\n",
       "  --sklearn-color-fitted-level-3: cornflowerblue;\n",
       "\n",
       "  /* Specific color for light theme */\n",
       "  --sklearn-color-text-on-default-background: var(--sg-text-color, var(--theme-code-foreground, var(--jp-content-font-color1, black)));\n",
       "  --sklearn-color-background: var(--sg-background-color, var(--theme-background, var(--jp-layout-color0, white)));\n",
       "  --sklearn-color-border-box: var(--sg-text-color, var(--theme-code-foreground, var(--jp-content-font-color1, black)));\n",
       "  --sklearn-color-icon: #696969;\n",
       "\n",
       "  @media (prefers-color-scheme: dark) {\n",
       "    /* Redefinition of color scheme for dark theme */\n",
       "    --sklearn-color-text-on-default-background: var(--sg-text-color, var(--theme-code-foreground, var(--jp-content-font-color1, white)));\n",
       "    --sklearn-color-background: var(--sg-background-color, var(--theme-background, var(--jp-layout-color0, #111)));\n",
       "    --sklearn-color-border-box: var(--sg-text-color, var(--theme-code-foreground, var(--jp-content-font-color1, white)));\n",
       "    --sklearn-color-icon: #878787;\n",
       "  }\n",
       "}\n",
       "\n",
       "#sk-container-id-1 {\n",
       "  color: var(--sklearn-color-text);\n",
       "}\n",
       "\n",
       "#sk-container-id-1 pre {\n",
       "  padding: 0;\n",
       "}\n",
       "\n",
       "#sk-container-id-1 input.sk-hidden--visually {\n",
       "  border: 0;\n",
       "  clip: rect(1px 1px 1px 1px);\n",
       "  clip: rect(1px, 1px, 1px, 1px);\n",
       "  height: 1px;\n",
       "  margin: -1px;\n",
       "  overflow: hidden;\n",
       "  padding: 0;\n",
       "  position: absolute;\n",
       "  width: 1px;\n",
       "}\n",
       "\n",
       "#sk-container-id-1 div.sk-dashed-wrapped {\n",
       "  border: 1px dashed var(--sklearn-color-line);\n",
       "  margin: 0 0.4em 0.5em 0.4em;\n",
       "  box-sizing: border-box;\n",
       "  padding-bottom: 0.4em;\n",
       "  background-color: var(--sklearn-color-background);\n",
       "}\n",
       "\n",
       "#sk-container-id-1 div.sk-container {\n",
       "  /* jupyter's `normalize.less` sets `[hidden] { display: none; }`\n",
       "     but bootstrap.min.css set `[hidden] { display: none !important; }`\n",
       "     so we also need the `!important` here to be able to override the\n",
       "     default hidden behavior on the sphinx rendered scikit-learn.org.\n",
       "     See: https://github.com/scikit-learn/scikit-learn/issues/21755 */\n",
       "  display: inline-block !important;\n",
       "  position: relative;\n",
       "}\n",
       "\n",
       "#sk-container-id-1 div.sk-text-repr-fallback {\n",
       "  display: none;\n",
       "}\n",
       "\n",
       "div.sk-parallel-item,\n",
       "div.sk-serial,\n",
       "div.sk-item {\n",
       "  /* draw centered vertical line to link estimators */\n",
       "  background-image: linear-gradient(var(--sklearn-color-text-on-default-background), var(--sklearn-color-text-on-default-background));\n",
       "  background-size: 2px 100%;\n",
       "  background-repeat: no-repeat;\n",
       "  background-position: center center;\n",
       "}\n",
       "\n",
       "/* Parallel-specific style estimator block */\n",
       "\n",
       "#sk-container-id-1 div.sk-parallel-item::after {\n",
       "  content: \"\";\n",
       "  width: 100%;\n",
       "  border-bottom: 2px solid var(--sklearn-color-text-on-default-background);\n",
       "  flex-grow: 1;\n",
       "}\n",
       "\n",
       "#sk-container-id-1 div.sk-parallel {\n",
       "  display: flex;\n",
       "  align-items: stretch;\n",
       "  justify-content: center;\n",
       "  background-color: var(--sklearn-color-background);\n",
       "  position: relative;\n",
       "}\n",
       "\n",
       "#sk-container-id-1 div.sk-parallel-item {\n",
       "  display: flex;\n",
       "  flex-direction: column;\n",
       "}\n",
       "\n",
       "#sk-container-id-1 div.sk-parallel-item:first-child::after {\n",
       "  align-self: flex-end;\n",
       "  width: 50%;\n",
       "}\n",
       "\n",
       "#sk-container-id-1 div.sk-parallel-item:last-child::after {\n",
       "  align-self: flex-start;\n",
       "  width: 50%;\n",
       "}\n",
       "\n",
       "#sk-container-id-1 div.sk-parallel-item:only-child::after {\n",
       "  width: 0;\n",
       "}\n",
       "\n",
       "/* Serial-specific style estimator block */\n",
       "\n",
       "#sk-container-id-1 div.sk-serial {\n",
       "  display: flex;\n",
       "  flex-direction: column;\n",
       "  align-items: center;\n",
       "  background-color: var(--sklearn-color-background);\n",
       "  padding-right: 1em;\n",
       "  padding-left: 1em;\n",
       "}\n",
       "\n",
       "\n",
       "/* Toggleable style: style used for estimator/Pipeline/ColumnTransformer box that is\n",
       "clickable and can be expanded/collapsed.\n",
       "- Pipeline and ColumnTransformer use this feature and define the default style\n",
       "- Estimators will overwrite some part of the style using the `sk-estimator` class\n",
       "*/\n",
       "\n",
       "/* Pipeline and ColumnTransformer style (default) */\n",
       "\n",
       "#sk-container-id-1 div.sk-toggleable {\n",
       "  /* Default theme specific background. It is overwritten whether we have a\n",
       "  specific estimator or a Pipeline/ColumnTransformer */\n",
       "  background-color: var(--sklearn-color-background);\n",
       "}\n",
       "\n",
       "/* Toggleable label */\n",
       "#sk-container-id-1 label.sk-toggleable__label {\n",
       "  cursor: pointer;\n",
       "  display: block;\n",
       "  width: 100%;\n",
       "  margin-bottom: 0;\n",
       "  padding: 0.5em;\n",
       "  box-sizing: border-box;\n",
       "  text-align: center;\n",
       "}\n",
       "\n",
       "#sk-container-id-1 label.sk-toggleable__label-arrow:before {\n",
       "  /* Arrow on the left of the label */\n",
       "  content: \"▸\";\n",
       "  float: left;\n",
       "  margin-right: 0.25em;\n",
       "  color: var(--sklearn-color-icon);\n",
       "}\n",
       "\n",
       "#sk-container-id-1 label.sk-toggleable__label-arrow:hover:before {\n",
       "  color: var(--sklearn-color-text);\n",
       "}\n",
       "\n",
       "/* Toggleable content - dropdown */\n",
       "\n",
       "#sk-container-id-1 div.sk-toggleable__content {\n",
       "  max-height: 0;\n",
       "  max-width: 0;\n",
       "  overflow: hidden;\n",
       "  text-align: left;\n",
       "  /* unfitted */\n",
       "  background-color: var(--sklearn-color-unfitted-level-0);\n",
       "}\n",
       "\n",
       "#sk-container-id-1 div.sk-toggleable__content.fitted {\n",
       "  /* fitted */\n",
       "  background-color: var(--sklearn-color-fitted-level-0);\n",
       "}\n",
       "\n",
       "#sk-container-id-1 div.sk-toggleable__content pre {\n",
       "  margin: 0.2em;\n",
       "  border-radius: 0.25em;\n",
       "  color: var(--sklearn-color-text);\n",
       "  /* unfitted */\n",
       "  background-color: var(--sklearn-color-unfitted-level-0);\n",
       "}\n",
       "\n",
       "#sk-container-id-1 div.sk-toggleable__content.fitted pre {\n",
       "  /* unfitted */\n",
       "  background-color: var(--sklearn-color-fitted-level-0);\n",
       "}\n",
       "\n",
       "#sk-container-id-1 input.sk-toggleable__control:checked~div.sk-toggleable__content {\n",
       "  /* Expand drop-down */\n",
       "  max-height: 200px;\n",
       "  max-width: 100%;\n",
       "  overflow: auto;\n",
       "}\n",
       "\n",
       "#sk-container-id-1 input.sk-toggleable__control:checked~label.sk-toggleable__label-arrow:before {\n",
       "  content: \"▾\";\n",
       "}\n",
       "\n",
       "/* Pipeline/ColumnTransformer-specific style */\n",
       "\n",
       "#sk-container-id-1 div.sk-label input.sk-toggleable__control:checked~label.sk-toggleable__label {\n",
       "  color: var(--sklearn-color-text);\n",
       "  background-color: var(--sklearn-color-unfitted-level-2);\n",
       "}\n",
       "\n",
       "#sk-container-id-1 div.sk-label.fitted input.sk-toggleable__control:checked~label.sk-toggleable__label {\n",
       "  background-color: var(--sklearn-color-fitted-level-2);\n",
       "}\n",
       "\n",
       "/* Estimator-specific style */\n",
       "\n",
       "/* Colorize estimator box */\n",
       "#sk-container-id-1 div.sk-estimator input.sk-toggleable__control:checked~label.sk-toggleable__label {\n",
       "  /* unfitted */\n",
       "  background-color: var(--sklearn-color-unfitted-level-2);\n",
       "}\n",
       "\n",
       "#sk-container-id-1 div.sk-estimator.fitted input.sk-toggleable__control:checked~label.sk-toggleable__label {\n",
       "  /* fitted */\n",
       "  background-color: var(--sklearn-color-fitted-level-2);\n",
       "}\n",
       "\n",
       "#sk-container-id-1 div.sk-label label.sk-toggleable__label,\n",
       "#sk-container-id-1 div.sk-label label {\n",
       "  /* The background is the default theme color */\n",
       "  color: var(--sklearn-color-text-on-default-background);\n",
       "}\n",
       "\n",
       "/* On hover, darken the color of the background */\n",
       "#sk-container-id-1 div.sk-label:hover label.sk-toggleable__label {\n",
       "  color: var(--sklearn-color-text);\n",
       "  background-color: var(--sklearn-color-unfitted-level-2);\n",
       "}\n",
       "\n",
       "/* Label box, darken color on hover, fitted */\n",
       "#sk-container-id-1 div.sk-label.fitted:hover label.sk-toggleable__label.fitted {\n",
       "  color: var(--sklearn-color-text);\n",
       "  background-color: var(--sklearn-color-fitted-level-2);\n",
       "}\n",
       "\n",
       "/* Estimator label */\n",
       "\n",
       "#sk-container-id-1 div.sk-label label {\n",
       "  font-family: monospace;\n",
       "  font-weight: bold;\n",
       "  display: inline-block;\n",
       "  line-height: 1.2em;\n",
       "}\n",
       "\n",
       "#sk-container-id-1 div.sk-label-container {\n",
       "  text-align: center;\n",
       "}\n",
       "\n",
       "/* Estimator-specific */\n",
       "#sk-container-id-1 div.sk-estimator {\n",
       "  font-family: monospace;\n",
       "  border: 1px dotted var(--sklearn-color-border-box);\n",
       "  border-radius: 0.25em;\n",
       "  box-sizing: border-box;\n",
       "  margin-bottom: 0.5em;\n",
       "  /* unfitted */\n",
       "  background-color: var(--sklearn-color-unfitted-level-0);\n",
       "}\n",
       "\n",
       "#sk-container-id-1 div.sk-estimator.fitted {\n",
       "  /* fitted */\n",
       "  background-color: var(--sklearn-color-fitted-level-0);\n",
       "}\n",
       "\n",
       "/* on hover */\n",
       "#sk-container-id-1 div.sk-estimator:hover {\n",
       "  /* unfitted */\n",
       "  background-color: var(--sklearn-color-unfitted-level-2);\n",
       "}\n",
       "\n",
       "#sk-container-id-1 div.sk-estimator.fitted:hover {\n",
       "  /* fitted */\n",
       "  background-color: var(--sklearn-color-fitted-level-2);\n",
       "}\n",
       "\n",
       "/* Specification for estimator info (e.g. \"i\" and \"?\") */\n",
       "\n",
       "/* Common style for \"i\" and \"?\" */\n",
       "\n",
       ".sk-estimator-doc-link,\n",
       "a:link.sk-estimator-doc-link,\n",
       "a:visited.sk-estimator-doc-link {\n",
       "  float: right;\n",
       "  font-size: smaller;\n",
       "  line-height: 1em;\n",
       "  font-family: monospace;\n",
       "  background-color: var(--sklearn-color-background);\n",
       "  border-radius: 1em;\n",
       "  height: 1em;\n",
       "  width: 1em;\n",
       "  text-decoration: none !important;\n",
       "  margin-left: 1ex;\n",
       "  /* unfitted */\n",
       "  border: var(--sklearn-color-unfitted-level-1) 1pt solid;\n",
       "  color: var(--sklearn-color-unfitted-level-1);\n",
       "}\n",
       "\n",
       ".sk-estimator-doc-link.fitted,\n",
       "a:link.sk-estimator-doc-link.fitted,\n",
       "a:visited.sk-estimator-doc-link.fitted {\n",
       "  /* fitted */\n",
       "  border: var(--sklearn-color-fitted-level-1) 1pt solid;\n",
       "  color: var(--sklearn-color-fitted-level-1);\n",
       "}\n",
       "\n",
       "/* On hover */\n",
       "div.sk-estimator:hover .sk-estimator-doc-link:hover,\n",
       ".sk-estimator-doc-link:hover,\n",
       "div.sk-label-container:hover .sk-estimator-doc-link:hover,\n",
       ".sk-estimator-doc-link:hover {\n",
       "  /* unfitted */\n",
       "  background-color: var(--sklearn-color-unfitted-level-3);\n",
       "  color: var(--sklearn-color-background);\n",
       "  text-decoration: none;\n",
       "}\n",
       "\n",
       "div.sk-estimator.fitted:hover .sk-estimator-doc-link.fitted:hover,\n",
       ".sk-estimator-doc-link.fitted:hover,\n",
       "div.sk-label-container:hover .sk-estimator-doc-link.fitted:hover,\n",
       ".sk-estimator-doc-link.fitted:hover {\n",
       "  /* fitted */\n",
       "  background-color: var(--sklearn-color-fitted-level-3);\n",
       "  color: var(--sklearn-color-background);\n",
       "  text-decoration: none;\n",
       "}\n",
       "\n",
       "/* Span, style for the box shown on hovering the info icon */\n",
       ".sk-estimator-doc-link span {\n",
       "  display: none;\n",
       "  z-index: 9999;\n",
       "  position: relative;\n",
       "  font-weight: normal;\n",
       "  right: .2ex;\n",
       "  padding: .5ex;\n",
       "  margin: .5ex;\n",
       "  width: min-content;\n",
       "  min-width: 20ex;\n",
       "  max-width: 50ex;\n",
       "  color: var(--sklearn-color-text);\n",
       "  box-shadow: 2pt 2pt 4pt #999;\n",
       "  /* unfitted */\n",
       "  background: var(--sklearn-color-unfitted-level-0);\n",
       "  border: .5pt solid var(--sklearn-color-unfitted-level-3);\n",
       "}\n",
       "\n",
       ".sk-estimator-doc-link.fitted span {\n",
       "  /* fitted */\n",
       "  background: var(--sklearn-color-fitted-level-0);\n",
       "  border: var(--sklearn-color-fitted-level-3);\n",
       "}\n",
       "\n",
       ".sk-estimator-doc-link:hover span {\n",
       "  display: block;\n",
       "}\n",
       "\n",
       "/* \"?\"-specific style due to the `<a>` HTML tag */\n",
       "\n",
       "#sk-container-id-1 a.estimator_doc_link {\n",
       "  float: right;\n",
       "  font-size: 1rem;\n",
       "  line-height: 1em;\n",
       "  font-family: monospace;\n",
       "  background-color: var(--sklearn-color-background);\n",
       "  border-radius: 1rem;\n",
       "  height: 1rem;\n",
       "  width: 1rem;\n",
       "  text-decoration: none;\n",
       "  /* unfitted */\n",
       "  color: var(--sklearn-color-unfitted-level-1);\n",
       "  border: var(--sklearn-color-unfitted-level-1) 1pt solid;\n",
       "}\n",
       "\n",
       "#sk-container-id-1 a.estimator_doc_link.fitted {\n",
       "  /* fitted */\n",
       "  border: var(--sklearn-color-fitted-level-1) 1pt solid;\n",
       "  color: var(--sklearn-color-fitted-level-1);\n",
       "}\n",
       "\n",
       "/* On hover */\n",
       "#sk-container-id-1 a.estimator_doc_link:hover {\n",
       "  /* unfitted */\n",
       "  background-color: var(--sklearn-color-unfitted-level-3);\n",
       "  color: var(--sklearn-color-background);\n",
       "  text-decoration: none;\n",
       "}\n",
       "\n",
       "#sk-container-id-1 a.estimator_doc_link.fitted:hover {\n",
       "  /* fitted */\n",
       "  background-color: var(--sklearn-color-fitted-level-3);\n",
       "}\n",
       "</style><div id=\"sk-container-id-1\" class=\"sk-top-container\"><div class=\"sk-text-repr-fallback\"><pre>LinearRegression()</pre><b>In a Jupyter environment, please rerun this cell to show the HTML representation or trust the notebook. <br />On GitHub, the HTML representation is unable to render, please try loading this page with nbviewer.org.</b></div><div class=\"sk-container\" hidden><div class=\"sk-item\"><div class=\"sk-estimator  sk-toggleable\"><input class=\"sk-toggleable__control sk-hidden--visually\" id=\"sk-estimator-id-1\" type=\"checkbox\" checked><label for=\"sk-estimator-id-1\" class=\"sk-toggleable__label  sk-toggleable__label-arrow \">&nbsp;&nbsp;LinearRegression<a class=\"sk-estimator-doc-link \" rel=\"noreferrer\" target=\"_blank\" href=\"https://scikit-learn.org/1.4/modules/generated/sklearn.linear_model.LinearRegression.html\">?<span>Documentation for LinearRegression</span></a><span class=\"sk-estimator-doc-link \">i<span>Not fitted</span></span></label><div class=\"sk-toggleable__content \"><pre>LinearRegression()</pre></div> </div></div></div></div>"
      ],
      "text/plain": [
       "LinearRegression()"
      ]
     },
     "execution_count": 417,
     "metadata": {},
     "output_type": "execute_result"
    }
   ],
   "source": [
    "model = LinearRegression()\n",
    "model"
   ]
  },
  {
   "cell_type": "code",
   "execution_count": 419,
   "id": "0153ee45-ed49-4f8d-9a7c-9d33eda89e92",
   "metadata": {},
   "outputs": [
    {
     "data": {
      "text/html": [
       "<style>#sk-container-id-2 {\n",
       "  /* Definition of color scheme common for light and dark mode */\n",
       "  --sklearn-color-text: black;\n",
       "  --sklearn-color-line: gray;\n",
       "  /* Definition of color scheme for unfitted estimators */\n",
       "  --sklearn-color-unfitted-level-0: #fff5e6;\n",
       "  --sklearn-color-unfitted-level-1: #f6e4d2;\n",
       "  --sklearn-color-unfitted-level-2: #ffe0b3;\n",
       "  --sklearn-color-unfitted-level-3: chocolate;\n",
       "  /* Definition of color scheme for fitted estimators */\n",
       "  --sklearn-color-fitted-level-0: #f0f8ff;\n",
       "  --sklearn-color-fitted-level-1: #d4ebff;\n",
       "  --sklearn-color-fitted-level-2: #b3dbfd;\n",
       "  --sklearn-color-fitted-level-3: cornflowerblue;\n",
       "\n",
       "  /* Specific color for light theme */\n",
       "  --sklearn-color-text-on-default-background: var(--sg-text-color, var(--theme-code-foreground, var(--jp-content-font-color1, black)));\n",
       "  --sklearn-color-background: var(--sg-background-color, var(--theme-background, var(--jp-layout-color0, white)));\n",
       "  --sklearn-color-border-box: var(--sg-text-color, var(--theme-code-foreground, var(--jp-content-font-color1, black)));\n",
       "  --sklearn-color-icon: #696969;\n",
       "\n",
       "  @media (prefers-color-scheme: dark) {\n",
       "    /* Redefinition of color scheme for dark theme */\n",
       "    --sklearn-color-text-on-default-background: var(--sg-text-color, var(--theme-code-foreground, var(--jp-content-font-color1, white)));\n",
       "    --sklearn-color-background: var(--sg-background-color, var(--theme-background, var(--jp-layout-color0, #111)));\n",
       "    --sklearn-color-border-box: var(--sg-text-color, var(--theme-code-foreground, var(--jp-content-font-color1, white)));\n",
       "    --sklearn-color-icon: #878787;\n",
       "  }\n",
       "}\n",
       "\n",
       "#sk-container-id-2 {\n",
       "  color: var(--sklearn-color-text);\n",
       "}\n",
       "\n",
       "#sk-container-id-2 pre {\n",
       "  padding: 0;\n",
       "}\n",
       "\n",
       "#sk-container-id-2 input.sk-hidden--visually {\n",
       "  border: 0;\n",
       "  clip: rect(1px 1px 1px 1px);\n",
       "  clip: rect(1px, 1px, 1px, 1px);\n",
       "  height: 1px;\n",
       "  margin: -1px;\n",
       "  overflow: hidden;\n",
       "  padding: 0;\n",
       "  position: absolute;\n",
       "  width: 1px;\n",
       "}\n",
       "\n",
       "#sk-container-id-2 div.sk-dashed-wrapped {\n",
       "  border: 1px dashed var(--sklearn-color-line);\n",
       "  margin: 0 0.4em 0.5em 0.4em;\n",
       "  box-sizing: border-box;\n",
       "  padding-bottom: 0.4em;\n",
       "  background-color: var(--sklearn-color-background);\n",
       "}\n",
       "\n",
       "#sk-container-id-2 div.sk-container {\n",
       "  /* jupyter's `normalize.less` sets `[hidden] { display: none; }`\n",
       "     but bootstrap.min.css set `[hidden] { display: none !important; }`\n",
       "     so we also need the `!important` here to be able to override the\n",
       "     default hidden behavior on the sphinx rendered scikit-learn.org.\n",
       "     See: https://github.com/scikit-learn/scikit-learn/issues/21755 */\n",
       "  display: inline-block !important;\n",
       "  position: relative;\n",
       "}\n",
       "\n",
       "#sk-container-id-2 div.sk-text-repr-fallback {\n",
       "  display: none;\n",
       "}\n",
       "\n",
       "div.sk-parallel-item,\n",
       "div.sk-serial,\n",
       "div.sk-item {\n",
       "  /* draw centered vertical line to link estimators */\n",
       "  background-image: linear-gradient(var(--sklearn-color-text-on-default-background), var(--sklearn-color-text-on-default-background));\n",
       "  background-size: 2px 100%;\n",
       "  background-repeat: no-repeat;\n",
       "  background-position: center center;\n",
       "}\n",
       "\n",
       "/* Parallel-specific style estimator block */\n",
       "\n",
       "#sk-container-id-2 div.sk-parallel-item::after {\n",
       "  content: \"\";\n",
       "  width: 100%;\n",
       "  border-bottom: 2px solid var(--sklearn-color-text-on-default-background);\n",
       "  flex-grow: 1;\n",
       "}\n",
       "\n",
       "#sk-container-id-2 div.sk-parallel {\n",
       "  display: flex;\n",
       "  align-items: stretch;\n",
       "  justify-content: center;\n",
       "  background-color: var(--sklearn-color-background);\n",
       "  position: relative;\n",
       "}\n",
       "\n",
       "#sk-container-id-2 div.sk-parallel-item {\n",
       "  display: flex;\n",
       "  flex-direction: column;\n",
       "}\n",
       "\n",
       "#sk-container-id-2 div.sk-parallel-item:first-child::after {\n",
       "  align-self: flex-end;\n",
       "  width: 50%;\n",
       "}\n",
       "\n",
       "#sk-container-id-2 div.sk-parallel-item:last-child::after {\n",
       "  align-self: flex-start;\n",
       "  width: 50%;\n",
       "}\n",
       "\n",
       "#sk-container-id-2 div.sk-parallel-item:only-child::after {\n",
       "  width: 0;\n",
       "}\n",
       "\n",
       "/* Serial-specific style estimator block */\n",
       "\n",
       "#sk-container-id-2 div.sk-serial {\n",
       "  display: flex;\n",
       "  flex-direction: column;\n",
       "  align-items: center;\n",
       "  background-color: var(--sklearn-color-background);\n",
       "  padding-right: 1em;\n",
       "  padding-left: 1em;\n",
       "}\n",
       "\n",
       "\n",
       "/* Toggleable style: style used for estimator/Pipeline/ColumnTransformer box that is\n",
       "clickable and can be expanded/collapsed.\n",
       "- Pipeline and ColumnTransformer use this feature and define the default style\n",
       "- Estimators will overwrite some part of the style using the `sk-estimator` class\n",
       "*/\n",
       "\n",
       "/* Pipeline and ColumnTransformer style (default) */\n",
       "\n",
       "#sk-container-id-2 div.sk-toggleable {\n",
       "  /* Default theme specific background. It is overwritten whether we have a\n",
       "  specific estimator or a Pipeline/ColumnTransformer */\n",
       "  background-color: var(--sklearn-color-background);\n",
       "}\n",
       "\n",
       "/* Toggleable label */\n",
       "#sk-container-id-2 label.sk-toggleable__label {\n",
       "  cursor: pointer;\n",
       "  display: block;\n",
       "  width: 100%;\n",
       "  margin-bottom: 0;\n",
       "  padding: 0.5em;\n",
       "  box-sizing: border-box;\n",
       "  text-align: center;\n",
       "}\n",
       "\n",
       "#sk-container-id-2 label.sk-toggleable__label-arrow:before {\n",
       "  /* Arrow on the left of the label */\n",
       "  content: \"▸\";\n",
       "  float: left;\n",
       "  margin-right: 0.25em;\n",
       "  color: var(--sklearn-color-icon);\n",
       "}\n",
       "\n",
       "#sk-container-id-2 label.sk-toggleable__label-arrow:hover:before {\n",
       "  color: var(--sklearn-color-text);\n",
       "}\n",
       "\n",
       "/* Toggleable content - dropdown */\n",
       "\n",
       "#sk-container-id-2 div.sk-toggleable__content {\n",
       "  max-height: 0;\n",
       "  max-width: 0;\n",
       "  overflow: hidden;\n",
       "  text-align: left;\n",
       "  /* unfitted */\n",
       "  background-color: var(--sklearn-color-unfitted-level-0);\n",
       "}\n",
       "\n",
       "#sk-container-id-2 div.sk-toggleable__content.fitted {\n",
       "  /* fitted */\n",
       "  background-color: var(--sklearn-color-fitted-level-0);\n",
       "}\n",
       "\n",
       "#sk-container-id-2 div.sk-toggleable__content pre {\n",
       "  margin: 0.2em;\n",
       "  border-radius: 0.25em;\n",
       "  color: var(--sklearn-color-text);\n",
       "  /* unfitted */\n",
       "  background-color: var(--sklearn-color-unfitted-level-0);\n",
       "}\n",
       "\n",
       "#sk-container-id-2 div.sk-toggleable__content.fitted pre {\n",
       "  /* unfitted */\n",
       "  background-color: var(--sklearn-color-fitted-level-0);\n",
       "}\n",
       "\n",
       "#sk-container-id-2 input.sk-toggleable__control:checked~div.sk-toggleable__content {\n",
       "  /* Expand drop-down */\n",
       "  max-height: 200px;\n",
       "  max-width: 100%;\n",
       "  overflow: auto;\n",
       "}\n",
       "\n",
       "#sk-container-id-2 input.sk-toggleable__control:checked~label.sk-toggleable__label-arrow:before {\n",
       "  content: \"▾\";\n",
       "}\n",
       "\n",
       "/* Pipeline/ColumnTransformer-specific style */\n",
       "\n",
       "#sk-container-id-2 div.sk-label input.sk-toggleable__control:checked~label.sk-toggleable__label {\n",
       "  color: var(--sklearn-color-text);\n",
       "  background-color: var(--sklearn-color-unfitted-level-2);\n",
       "}\n",
       "\n",
       "#sk-container-id-2 div.sk-label.fitted input.sk-toggleable__control:checked~label.sk-toggleable__label {\n",
       "  background-color: var(--sklearn-color-fitted-level-2);\n",
       "}\n",
       "\n",
       "/* Estimator-specific style */\n",
       "\n",
       "/* Colorize estimator box */\n",
       "#sk-container-id-2 div.sk-estimator input.sk-toggleable__control:checked~label.sk-toggleable__label {\n",
       "  /* unfitted */\n",
       "  background-color: var(--sklearn-color-unfitted-level-2);\n",
       "}\n",
       "\n",
       "#sk-container-id-2 div.sk-estimator.fitted input.sk-toggleable__control:checked~label.sk-toggleable__label {\n",
       "  /* fitted */\n",
       "  background-color: var(--sklearn-color-fitted-level-2);\n",
       "}\n",
       "\n",
       "#sk-container-id-2 div.sk-label label.sk-toggleable__label,\n",
       "#sk-container-id-2 div.sk-label label {\n",
       "  /* The background is the default theme color */\n",
       "  color: var(--sklearn-color-text-on-default-background);\n",
       "}\n",
       "\n",
       "/* On hover, darken the color of the background */\n",
       "#sk-container-id-2 div.sk-label:hover label.sk-toggleable__label {\n",
       "  color: var(--sklearn-color-text);\n",
       "  background-color: var(--sklearn-color-unfitted-level-2);\n",
       "}\n",
       "\n",
       "/* Label box, darken color on hover, fitted */\n",
       "#sk-container-id-2 div.sk-label.fitted:hover label.sk-toggleable__label.fitted {\n",
       "  color: var(--sklearn-color-text);\n",
       "  background-color: var(--sklearn-color-fitted-level-2);\n",
       "}\n",
       "\n",
       "/* Estimator label */\n",
       "\n",
       "#sk-container-id-2 div.sk-label label {\n",
       "  font-family: monospace;\n",
       "  font-weight: bold;\n",
       "  display: inline-block;\n",
       "  line-height: 1.2em;\n",
       "}\n",
       "\n",
       "#sk-container-id-2 div.sk-label-container {\n",
       "  text-align: center;\n",
       "}\n",
       "\n",
       "/* Estimator-specific */\n",
       "#sk-container-id-2 div.sk-estimator {\n",
       "  font-family: monospace;\n",
       "  border: 1px dotted var(--sklearn-color-border-box);\n",
       "  border-radius: 0.25em;\n",
       "  box-sizing: border-box;\n",
       "  margin-bottom: 0.5em;\n",
       "  /* unfitted */\n",
       "  background-color: var(--sklearn-color-unfitted-level-0);\n",
       "}\n",
       "\n",
       "#sk-container-id-2 div.sk-estimator.fitted {\n",
       "  /* fitted */\n",
       "  background-color: var(--sklearn-color-fitted-level-0);\n",
       "}\n",
       "\n",
       "/* on hover */\n",
       "#sk-container-id-2 div.sk-estimator:hover {\n",
       "  /* unfitted */\n",
       "  background-color: var(--sklearn-color-unfitted-level-2);\n",
       "}\n",
       "\n",
       "#sk-container-id-2 div.sk-estimator.fitted:hover {\n",
       "  /* fitted */\n",
       "  background-color: var(--sklearn-color-fitted-level-2);\n",
       "}\n",
       "\n",
       "/* Specification for estimator info (e.g. \"i\" and \"?\") */\n",
       "\n",
       "/* Common style for \"i\" and \"?\" */\n",
       "\n",
       ".sk-estimator-doc-link,\n",
       "a:link.sk-estimator-doc-link,\n",
       "a:visited.sk-estimator-doc-link {\n",
       "  float: right;\n",
       "  font-size: smaller;\n",
       "  line-height: 1em;\n",
       "  font-family: monospace;\n",
       "  background-color: var(--sklearn-color-background);\n",
       "  border-radius: 1em;\n",
       "  height: 1em;\n",
       "  width: 1em;\n",
       "  text-decoration: none !important;\n",
       "  margin-left: 1ex;\n",
       "  /* unfitted */\n",
       "  border: var(--sklearn-color-unfitted-level-1) 1pt solid;\n",
       "  color: var(--sklearn-color-unfitted-level-1);\n",
       "}\n",
       "\n",
       ".sk-estimator-doc-link.fitted,\n",
       "a:link.sk-estimator-doc-link.fitted,\n",
       "a:visited.sk-estimator-doc-link.fitted {\n",
       "  /* fitted */\n",
       "  border: var(--sklearn-color-fitted-level-1) 1pt solid;\n",
       "  color: var(--sklearn-color-fitted-level-1);\n",
       "}\n",
       "\n",
       "/* On hover */\n",
       "div.sk-estimator:hover .sk-estimator-doc-link:hover,\n",
       ".sk-estimator-doc-link:hover,\n",
       "div.sk-label-container:hover .sk-estimator-doc-link:hover,\n",
       ".sk-estimator-doc-link:hover {\n",
       "  /* unfitted */\n",
       "  background-color: var(--sklearn-color-unfitted-level-3);\n",
       "  color: var(--sklearn-color-background);\n",
       "  text-decoration: none;\n",
       "}\n",
       "\n",
       "div.sk-estimator.fitted:hover .sk-estimator-doc-link.fitted:hover,\n",
       ".sk-estimator-doc-link.fitted:hover,\n",
       "div.sk-label-container:hover .sk-estimator-doc-link.fitted:hover,\n",
       ".sk-estimator-doc-link.fitted:hover {\n",
       "  /* fitted */\n",
       "  background-color: var(--sklearn-color-fitted-level-3);\n",
       "  color: var(--sklearn-color-background);\n",
       "  text-decoration: none;\n",
       "}\n",
       "\n",
       "/* Span, style for the box shown on hovering the info icon */\n",
       ".sk-estimator-doc-link span {\n",
       "  display: none;\n",
       "  z-index: 9999;\n",
       "  position: relative;\n",
       "  font-weight: normal;\n",
       "  right: .2ex;\n",
       "  padding: .5ex;\n",
       "  margin: .5ex;\n",
       "  width: min-content;\n",
       "  min-width: 20ex;\n",
       "  max-width: 50ex;\n",
       "  color: var(--sklearn-color-text);\n",
       "  box-shadow: 2pt 2pt 4pt #999;\n",
       "  /* unfitted */\n",
       "  background: var(--sklearn-color-unfitted-level-0);\n",
       "  border: .5pt solid var(--sklearn-color-unfitted-level-3);\n",
       "}\n",
       "\n",
       ".sk-estimator-doc-link.fitted span {\n",
       "  /* fitted */\n",
       "  background: var(--sklearn-color-fitted-level-0);\n",
       "  border: var(--sklearn-color-fitted-level-3);\n",
       "}\n",
       "\n",
       ".sk-estimator-doc-link:hover span {\n",
       "  display: block;\n",
       "}\n",
       "\n",
       "/* \"?\"-specific style due to the `<a>` HTML tag */\n",
       "\n",
       "#sk-container-id-2 a.estimator_doc_link {\n",
       "  float: right;\n",
       "  font-size: 1rem;\n",
       "  line-height: 1em;\n",
       "  font-family: monospace;\n",
       "  background-color: var(--sklearn-color-background);\n",
       "  border-radius: 1rem;\n",
       "  height: 1rem;\n",
       "  width: 1rem;\n",
       "  text-decoration: none;\n",
       "  /* unfitted */\n",
       "  color: var(--sklearn-color-unfitted-level-1);\n",
       "  border: var(--sklearn-color-unfitted-level-1) 1pt solid;\n",
       "}\n",
       "\n",
       "#sk-container-id-2 a.estimator_doc_link.fitted {\n",
       "  /* fitted */\n",
       "  border: var(--sklearn-color-fitted-level-1) 1pt solid;\n",
       "  color: var(--sklearn-color-fitted-level-1);\n",
       "}\n",
       "\n",
       "/* On hover */\n",
       "#sk-container-id-2 a.estimator_doc_link:hover {\n",
       "  /* unfitted */\n",
       "  background-color: var(--sklearn-color-unfitted-level-3);\n",
       "  color: var(--sklearn-color-background);\n",
       "  text-decoration: none;\n",
       "}\n",
       "\n",
       "#sk-container-id-2 a.estimator_doc_link.fitted:hover {\n",
       "  /* fitted */\n",
       "  background-color: var(--sklearn-color-fitted-level-3);\n",
       "}\n",
       "</style><div id=\"sk-container-id-2\" class=\"sk-top-container\"><div class=\"sk-text-repr-fallback\"><pre>LinearRegression()</pre><b>In a Jupyter environment, please rerun this cell to show the HTML representation or trust the notebook. <br />On GitHub, the HTML representation is unable to render, please try loading this page with nbviewer.org.</b></div><div class=\"sk-container\" hidden><div class=\"sk-item\"><div class=\"sk-estimator fitted sk-toggleable\"><input class=\"sk-toggleable__control sk-hidden--visually\" id=\"sk-estimator-id-2\" type=\"checkbox\" checked><label for=\"sk-estimator-id-2\" class=\"sk-toggleable__label fitted sk-toggleable__label-arrow fitted\">&nbsp;&nbsp;LinearRegression<a class=\"sk-estimator-doc-link fitted\" rel=\"noreferrer\" target=\"_blank\" href=\"https://scikit-learn.org/1.4/modules/generated/sklearn.linear_model.LinearRegression.html\">?<span>Documentation for LinearRegression</span></a><span class=\"sk-estimator-doc-link fitted\">i<span>Fitted</span></span></label><div class=\"sk-toggleable__content fitted\"><pre>LinearRegression()</pre></div> </div></div></div></div>"
      ],
      "text/plain": [
       "LinearRegression()"
      ]
     },
     "execution_count": 419,
     "metadata": {},
     "output_type": "execute_result"
    }
   ],
   "source": [
    "model.fit(x, y)"
   ]
  },
  {
   "cell_type": "code",
   "execution_count": 421,
   "id": "d7792f98-1cd7-46c8-9817-9feae24d989a",
   "metadata": {},
   "outputs": [
    {
     "name": "stdout",
     "output_type": "stream",
     "text": [
      "0.8466898954703833\n"
     ]
    }
   ],
   "source": [
    "coef_det = model.score(x,y)\n",
    "print(coef_det) #Coefficient de détermination"
   ]
  },
  {
   "cell_type": "code",
   "execution_count": 431,
   "id": "3750f1a2-4200-4ccb-af07-d2d904564685",
   "metadata": {},
   "outputs": [
    {
     "data": {
      "text/plain": [
       "array([ 9.85714286, 13.71428571, 17.57142857, 21.42857143, 25.28571429,\n",
       "       29.14285714])"
      ]
     },
     "execution_count": 431,
     "metadata": {},
     "output_type": "execute_result"
    }
   ],
   "source": [
    "#prédicer\n",
    "y_pred = model.predict(x)\n",
    "y_pred"
   ]
  },
  {
   "cell_type": "code",
   "execution_count": 433,
   "id": "1b315554-1b28-4e68-b8e6-57a64c150f69",
   "metadata": {},
   "outputs": [],
   "source": [
    "# K- Means"
   ]
  },
  {
   "cell_type": "code",
   "execution_count": 441,
   "id": "77b08e93-1d7a-4467-869e-5e53ce438a54",
   "metadata": {},
   "outputs": [],
   "source": [
    "%matplotlib inline\n",
    "import matplotlib.pyplot as plt\n",
    "import seaborn as sns; sns.set()\n",
    "import numpy as np\n",
    "import pandas as pd\n",
    "from sklearn.datasets import make_blobs"
   ]
  },
  {
   "cell_type": "code",
   "execution_count": null,
   "id": "0077773b-c73f-4b1f-bbf0-5c09a0d4d645",
   "metadata": {},
   "outputs": [],
   "source": []
  }
 ],
 "metadata": {
  "kernelspec": {
   "display_name": "Python 3 (ipykernel)",
   "language": "python",
   "name": "python3"
  },
  "language_info": {
   "codemirror_mode": {
    "name": "ipython",
    "version": 3
   },
   "file_extension": ".py",
   "mimetype": "text/x-python",
   "name": "python",
   "nbconvert_exporter": "python",
   "pygments_lexer": "ipython3",
   "version": "3.12.2"
  }
 },
 "nbformat": 4,
 "nbformat_minor": 5
}
